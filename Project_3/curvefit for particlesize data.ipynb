{
 "cells": [
  {
   "cell_type": "code",
   "execution_count": 3,
   "metadata": {},
   "outputs": [],
   "source": [
    "import numpy as np\n",
    "import pandas as pd\n",
    "import matplotlib.pyplot as plt"
   ]
  },
  {
   "cell_type": "code",
   "execution_count": 4,
   "metadata": {},
   "outputs": [
    {
     "data": {
      "text/html": [
       "<div>\n",
       "<style scoped>\n",
       "    .dataframe tbody tr th:only-of-type {\n",
       "        vertical-align: middle;\n",
       "    }\n",
       "\n",
       "    .dataframe tbody tr th {\n",
       "        vertical-align: top;\n",
       "    }\n",
       "\n",
       "    .dataframe thead th {\n",
       "        text-align: right;\n",
       "    }\n",
       "</style>\n",
       "<table border=\"1\" class=\"dataframe\">\n",
       "  <thead>\n",
       "    <tr style=\"text-align: right;\">\n",
       "      <th></th>\n",
       "      <th>Mesh size</th>\n",
       "      <th>Mass retained</th>\n",
       "    </tr>\n",
       "  </thead>\n",
       "  <tbody>\n",
       "    <tr>\n",
       "      <th>0</th>\n",
       "      <td>0</td>\n",
       "      <td>1.10</td>\n",
       "    </tr>\n",
       "    <tr>\n",
       "      <th>1</th>\n",
       "      <td>45</td>\n",
       "      <td>1.90</td>\n",
       "    </tr>\n",
       "    <tr>\n",
       "      <th>2</th>\n",
       "      <td>63</td>\n",
       "      <td>5.25</td>\n",
       "    </tr>\n",
       "    <tr>\n",
       "      <th>3</th>\n",
       "      <td>90</td>\n",
       "      <td>7.50</td>\n",
       "    </tr>\n",
       "    <tr>\n",
       "      <th>4</th>\n",
       "      <td>125</td>\n",
       "      <td>21.80</td>\n",
       "    </tr>\n",
       "    <tr>\n",
       "      <th>5</th>\n",
       "      <td>180</td>\n",
       "      <td>37.50</td>\n",
       "    </tr>\n",
       "    <tr>\n",
       "      <th>6</th>\n",
       "      <td>250</td>\n",
       "      <td>37.50</td>\n",
       "    </tr>\n",
       "    <tr>\n",
       "      <th>7</th>\n",
       "      <td>355</td>\n",
       "      <td>97.00</td>\n",
       "    </tr>\n",
       "    <tr>\n",
       "      <th>8</th>\n",
       "      <td>500</td>\n",
       "      <td>90.00</td>\n",
       "    </tr>\n",
       "    <tr>\n",
       "      <th>9</th>\n",
       "      <td>710</td>\n",
       "      <td>112.50</td>\n",
       "    </tr>\n",
       "    <tr>\n",
       "      <th>10</th>\n",
       "      <td>1000</td>\n",
       "      <td>285.00</td>\n",
       "    </tr>\n",
       "    <tr>\n",
       "      <th>11</th>\n",
       "      <td>1400</td>\n",
       "      <td>52.50</td>\n",
       "    </tr>\n",
       "    <tr>\n",
       "      <th>12</th>\n",
       "      <td>1800</td>\n",
       "      <td>NaN</td>\n",
       "    </tr>\n",
       "  </tbody>\n",
       "</table>\n",
       "</div>"
      ],
      "text/plain": [
       "    Mesh size  Mass retained\n",
       "0           0           1.10\n",
       "1          45           1.90\n",
       "2          63           5.25\n",
       "3          90           7.50\n",
       "4         125          21.80\n",
       "5         180          37.50\n",
       "6         250          37.50\n",
       "7         355          97.00\n",
       "8         500          90.00\n",
       "9         710         112.50\n",
       "10       1000         285.00\n",
       "11       1400          52.50\n",
       "12       1800            NaN"
      ]
     },
     "execution_count": 4,
     "metadata": {},
     "output_type": "execute_result"
    }
   ],
   "source": [
    "data = {\"Mesh size\" : [0, 45, 63, 90, 125, 180, 250, 355, 500, 710, 1000, 1400, 1800],\n",
    "       \"Mass retained\" : [1.1, 1.9, 5.25, 7.5, 21.8, 37.5, 37.5, 97, 90, 112.5, 285, 52.5, np.nan]}\n",
    "\n",
    "df = pd.DataFrame(data)\n",
    "df"
   ]
  },
  {
   "cell_type": "code",
   "execution_count": 5,
   "metadata": {},
   "outputs": [],
   "source": [
    "# Step 1: Define the function for mass fractions\n",
    "def mass_fraction(mass):\n",
    "    '''This function requires the column of mass retained from the data frame to be parsed in.\n",
    "    It will then compute the mass fractions.\n",
    "    '''\n",
    "    mass_frac = (mass / mass.sum()).round(3)\n",
    "    return mass_frac"
   ]
  },
  {
   "cell_type": "code",
   "execution_count": 6,
   "metadata": {},
   "outputs": [],
   "source": [
    "# Step 2: Define the function for the width i.e size of intervals\n",
    "def class_width(mesh):\n",
    "    ''' The column of mesh sizes from the data can be parsed into this function as the arguement.\n",
    "    The function then uses the mesh sizes to compute the width.\n",
    "    '''\n",
    "    widths = mesh.diff()\n",
    "    return widths"
   ]
  },
  {
   "cell_type": "code",
   "execution_count": 7,
   "metadata": {},
   "outputs": [
    {
     "data": {
      "text/html": [
       "<div>\n",
       "<style scoped>\n",
       "    .dataframe tbody tr th:only-of-type {\n",
       "        vertical-align: middle;\n",
       "    }\n",
       "\n",
       "    .dataframe tbody tr th {\n",
       "        vertical-align: top;\n",
       "    }\n",
       "\n",
       "    .dataframe thead th {\n",
       "        text-align: right;\n",
       "    }\n",
       "</style>\n",
       "<table border=\"1\" class=\"dataframe\">\n",
       "  <thead>\n",
       "    <tr style=\"text-align: right;\">\n",
       "      <th></th>\n",
       "      <th>Mesh size</th>\n",
       "      <th>Mass retained</th>\n",
       "      <th>Mass fraction</th>\n",
       "      <th>Class width</th>\n",
       "      <th>qr</th>\n",
       "    </tr>\n",
       "  </thead>\n",
       "  <tbody>\n",
       "    <tr>\n",
       "      <th>0</th>\n",
       "      <td>0</td>\n",
       "      <td>1.10</td>\n",
       "      <td>0.001</td>\n",
       "      <td>45.0</td>\n",
       "      <td>0.000022</td>\n",
       "    </tr>\n",
       "    <tr>\n",
       "      <th>1</th>\n",
       "      <td>45</td>\n",
       "      <td>1.90</td>\n",
       "      <td>0.003</td>\n",
       "      <td>18.0</td>\n",
       "      <td>0.000167</td>\n",
       "    </tr>\n",
       "    <tr>\n",
       "      <th>2</th>\n",
       "      <td>63</td>\n",
       "      <td>5.25</td>\n",
       "      <td>0.007</td>\n",
       "      <td>27.0</td>\n",
       "      <td>0.000259</td>\n",
       "    </tr>\n",
       "    <tr>\n",
       "      <th>3</th>\n",
       "      <td>90</td>\n",
       "      <td>7.50</td>\n",
       "      <td>0.010</td>\n",
       "      <td>35.0</td>\n",
       "      <td>0.000286</td>\n",
       "    </tr>\n",
       "    <tr>\n",
       "      <th>4</th>\n",
       "      <td>125</td>\n",
       "      <td>21.80</td>\n",
       "      <td>0.029</td>\n",
       "      <td>55.0</td>\n",
       "      <td>0.000527</td>\n",
       "    </tr>\n",
       "    <tr>\n",
       "      <th>5</th>\n",
       "      <td>180</td>\n",
       "      <td>37.50</td>\n",
       "      <td>0.050</td>\n",
       "      <td>70.0</td>\n",
       "      <td>0.000714</td>\n",
       "    </tr>\n",
       "    <tr>\n",
       "      <th>6</th>\n",
       "      <td>250</td>\n",
       "      <td>37.50</td>\n",
       "      <td>0.050</td>\n",
       "      <td>105.0</td>\n",
       "      <td>0.000476</td>\n",
       "    </tr>\n",
       "    <tr>\n",
       "      <th>7</th>\n",
       "      <td>355</td>\n",
       "      <td>97.00</td>\n",
       "      <td>0.129</td>\n",
       "      <td>145.0</td>\n",
       "      <td>0.000890</td>\n",
       "    </tr>\n",
       "    <tr>\n",
       "      <th>8</th>\n",
       "      <td>500</td>\n",
       "      <td>90.00</td>\n",
       "      <td>0.120</td>\n",
       "      <td>210.0</td>\n",
       "      <td>0.000571</td>\n",
       "    </tr>\n",
       "    <tr>\n",
       "      <th>9</th>\n",
       "      <td>710</td>\n",
       "      <td>112.50</td>\n",
       "      <td>0.150</td>\n",
       "      <td>290.0</td>\n",
       "      <td>0.000517</td>\n",
       "    </tr>\n",
       "    <tr>\n",
       "      <th>10</th>\n",
       "      <td>1000</td>\n",
       "      <td>285.00</td>\n",
       "      <td>0.380</td>\n",
       "      <td>400.0</td>\n",
       "      <td>0.000950</td>\n",
       "    </tr>\n",
       "    <tr>\n",
       "      <th>11</th>\n",
       "      <td>1400</td>\n",
       "      <td>52.50</td>\n",
       "      <td>0.070</td>\n",
       "      <td>400.0</td>\n",
       "      <td>0.000175</td>\n",
       "    </tr>\n",
       "    <tr>\n",
       "      <th>12</th>\n",
       "      <td>1800</td>\n",
       "      <td>NaN</td>\n",
       "      <td>NaN</td>\n",
       "      <td>NaN</td>\n",
       "      <td>NaN</td>\n",
       "    </tr>\n",
       "  </tbody>\n",
       "</table>\n",
       "</div>"
      ],
      "text/plain": [
       "    Mesh size  Mass retained  Mass fraction  Class width        qr\n",
       "0           0           1.10          0.001         45.0  0.000022\n",
       "1          45           1.90          0.003         18.0  0.000167\n",
       "2          63           5.25          0.007         27.0  0.000259\n",
       "3          90           7.50          0.010         35.0  0.000286\n",
       "4         125          21.80          0.029         55.0  0.000527\n",
       "5         180          37.50          0.050         70.0  0.000714\n",
       "6         250          37.50          0.050        105.0  0.000476\n",
       "7         355          97.00          0.129        145.0  0.000890\n",
       "8         500          90.00          0.120        210.0  0.000571\n",
       "9         710         112.50          0.150        290.0  0.000517\n",
       "10       1000         285.00          0.380        400.0  0.000950\n",
       "11       1400          52.50          0.070        400.0  0.000175\n",
       "12       1800            NaN            NaN          NaN       NaN"
      ]
     },
     "execution_count": 7,
     "metadata": {},
     "output_type": "execute_result"
    }
   ],
   "source": [
    "# Step 3: Compute the mass fractions and the class widths by calling the respective functions\n",
    "df2 = df.copy()\n",
    "df2['Mass fraction'] = mass_fraction(df2['Mass retained'])          \n",
    "df2['Class width'] = class_width(df2['Mesh size']).shift(-1)    \n",
    "\n",
    "#Step 4: Compute the quantity distribution function for the histogram\n",
    "df2['qr'] = df2['Mass fraction'] / df2['Class width']          \n",
    "df2"
   ]
  },
  {
   "cell_type": "code",
   "execution_count": 8,
   "metadata": {},
   "outputs": [
    {
     "data": {
      "image/png": "[encoded data removed]",
      "text/plain": [
       "<Figure size 432x288 with 1 Axes>"
      ]
     },
     "metadata": {
      "needs_background": "light"
     },
     "output_type": "display_data"
    }
   ],
   "source": [
    "fig, ax = plt.subplots()\n",
    "ax.bar(df2['Mesh size'], df2['qr'], width=df2['Class width'], align='edge', edgecolor='white')\n",
    "plt.tight_layout()\n"
   ]
  },
  {
   "cell_type": "code",
   "execution_count": 9,
   "metadata": {},
   "outputs": [],
   "source": [
    "# Step 1: Define the function to calculate Dmean\n",
    "def mean_size(mesh):\n",
    "    ''' This function requires the mesh sizes to be parsed in and then \n",
    "    it calculates the mean between intervals of each sizes. \n",
    "    '''\n",
    "    Dmean = mesh.rolling(2).mean().shift(-1)\n",
    "    return Dmean"
   ]
  },
  {
   "cell_type": "code",
   "execution_count": 10,
   "metadata": {},
   "outputs": [
    {
     "data": {
      "text/html": [
       "<div>\n",
       "<style scoped>\n",
       "    .dataframe tbody tr th:only-of-type {\n",
       "        vertical-align: middle;\n",
       "    }\n",
       "\n",
       "    .dataframe tbody tr th {\n",
       "        vertical-align: top;\n",
       "    }\n",
       "\n",
       "    .dataframe thead th {\n",
       "        text-align: right;\n",
       "    }\n",
       "</style>\n",
       "<table border=\"1\" class=\"dataframe\">\n",
       "  <thead>\n",
       "    <tr style=\"text-align: right;\">\n",
       "      <th></th>\n",
       "      <th>Mesh size</th>\n",
       "      <th>Mass retained</th>\n",
       "      <th>Mass fraction</th>\n",
       "      <th>Class width</th>\n",
       "      <th>Dmean</th>\n",
       "      <th>qr_prob</th>\n",
       "    </tr>\n",
       "  </thead>\n",
       "  <tbody>\n",
       "    <tr>\n",
       "      <th>0</th>\n",
       "      <td>0</td>\n",
       "      <td>1.10</td>\n",
       "      <td>0.001</td>\n",
       "      <td>45.0</td>\n",
       "      <td>22.5</td>\n",
       "      <td>0.000022</td>\n",
       "    </tr>\n",
       "    <tr>\n",
       "      <th>1</th>\n",
       "      <td>45</td>\n",
       "      <td>1.90</td>\n",
       "      <td>0.003</td>\n",
       "      <td>18.0</td>\n",
       "      <td>54.0</td>\n",
       "      <td>0.000167</td>\n",
       "    </tr>\n",
       "    <tr>\n",
       "      <th>2</th>\n",
       "      <td>63</td>\n",
       "      <td>5.25</td>\n",
       "      <td>0.007</td>\n",
       "      <td>27.0</td>\n",
       "      <td>76.5</td>\n",
       "      <td>0.000259</td>\n",
       "    </tr>\n",
       "    <tr>\n",
       "      <th>3</th>\n",
       "      <td>90</td>\n",
       "      <td>7.50</td>\n",
       "      <td>0.010</td>\n",
       "      <td>35.0</td>\n",
       "      <td>107.5</td>\n",
       "      <td>0.000286</td>\n",
       "    </tr>\n",
       "    <tr>\n",
       "      <th>4</th>\n",
       "      <td>125</td>\n",
       "      <td>21.80</td>\n",
       "      <td>0.029</td>\n",
       "      <td>55.0</td>\n",
       "      <td>152.5</td>\n",
       "      <td>0.000527</td>\n",
       "    </tr>\n",
       "    <tr>\n",
       "      <th>5</th>\n",
       "      <td>180</td>\n",
       "      <td>37.50</td>\n",
       "      <td>0.050</td>\n",
       "      <td>70.0</td>\n",
       "      <td>215.0</td>\n",
       "      <td>0.000714</td>\n",
       "    </tr>\n",
       "    <tr>\n",
       "      <th>6</th>\n",
       "      <td>250</td>\n",
       "      <td>37.50</td>\n",
       "      <td>0.050</td>\n",
       "      <td>105.0</td>\n",
       "      <td>302.5</td>\n",
       "      <td>0.000476</td>\n",
       "    </tr>\n",
       "    <tr>\n",
       "      <th>7</th>\n",
       "      <td>355</td>\n",
       "      <td>97.00</td>\n",
       "      <td>0.129</td>\n",
       "      <td>145.0</td>\n",
       "      <td>427.5</td>\n",
       "      <td>0.000890</td>\n",
       "    </tr>\n",
       "    <tr>\n",
       "      <th>8</th>\n",
       "      <td>500</td>\n",
       "      <td>90.00</td>\n",
       "      <td>0.120</td>\n",
       "      <td>210.0</td>\n",
       "      <td>605.0</td>\n",
       "      <td>0.000571</td>\n",
       "    </tr>\n",
       "    <tr>\n",
       "      <th>9</th>\n",
       "      <td>710</td>\n",
       "      <td>112.50</td>\n",
       "      <td>0.150</td>\n",
       "      <td>290.0</td>\n",
       "      <td>855.0</td>\n",
       "      <td>0.000517</td>\n",
       "    </tr>\n",
       "    <tr>\n",
       "      <th>10</th>\n",
       "      <td>1000</td>\n",
       "      <td>285.00</td>\n",
       "      <td>0.380</td>\n",
       "      <td>400.0</td>\n",
       "      <td>1200.0</td>\n",
       "      <td>0.000950</td>\n",
       "    </tr>\n",
       "    <tr>\n",
       "      <th>11</th>\n",
       "      <td>1400</td>\n",
       "      <td>52.50</td>\n",
       "      <td>0.070</td>\n",
       "      <td>400.0</td>\n",
       "      <td>1600.0</td>\n",
       "      <td>0.000175</td>\n",
       "    </tr>\n",
       "    <tr>\n",
       "      <th>12</th>\n",
       "      <td>1800</td>\n",
       "      <td>NaN</td>\n",
       "      <td>NaN</td>\n",
       "      <td>NaN</td>\n",
       "      <td>NaN</td>\n",
       "      <td>NaN</td>\n",
       "    </tr>\n",
       "  </tbody>\n",
       "</table>\n",
       "</div>"
      ],
      "text/plain": [
       "    Mesh size  Mass retained  Mass fraction  Class width   Dmean   qr_prob\n",
       "0           0           1.10          0.001         45.0    22.5  0.000022\n",
       "1          45           1.90          0.003         18.0    54.0  0.000167\n",
       "2          63           5.25          0.007         27.0    76.5  0.000259\n",
       "3          90           7.50          0.010         35.0   107.5  0.000286\n",
       "4         125          21.80          0.029         55.0   152.5  0.000527\n",
       "5         180          37.50          0.050         70.0   215.0  0.000714\n",
       "6         250          37.50          0.050        105.0   302.5  0.000476\n",
       "7         355          97.00          0.129        145.0   427.5  0.000890\n",
       "8         500          90.00          0.120        210.0   605.0  0.000571\n",
       "9         710         112.50          0.150        290.0   855.0  0.000517\n",
       "10       1000         285.00          0.380        400.0  1200.0  0.000950\n",
       "11       1400          52.50          0.070        400.0  1600.0  0.000175\n",
       "12       1800            NaN            NaN          NaN     NaN       NaN"
      ]
     },
     "execution_count": 10,
     "metadata": {},
     "output_type": "execute_result"
    }
   ],
   "source": [
    "# Step 2: Compute the mass fractions, class sizes and the means.\n",
    "df4 = df.copy()\n",
    "df4['Mass fraction'] = mass_fraction(df4['Mass retained'])         \n",
    "df4['Class width'] = class_width(df4['Mesh size']).shift(-1)   \n",
    "df4['Dmean'] = mean_size(df4['Mesh size'])                     \n",
    "df4['qr_prob'] = df4['Mass fraction'] / df4['Class width']         \n",
    "df4"
   ]
  },
  {
   "cell_type": "code",
   "execution_count": 18,
   "metadata": {},
   "outputs": [
    {
     "data": {
      "image/png": "[encoded data removed]",
      "text/plain": [
       "<Figure size 432x288 with 1 Axes>"
      ]
     },
     "metadata": {
      "needs_background": "light"
     },
     "output_type": "display_data"
    }
   ],
   "source": [
    "#Generate the plot  \n",
    "fig, ax = plt.subplots()\n",
    "ax.bar(df2['Mesh size'], df2['qr'], width=df2['Class width'], align='edge', edgecolor='white')\n",
    "ax.scatter(df4['Dmean'], df4['qr_prob'])\n",
    "plt.tight_layout()"
   ]
  },
  {
   "cell_type": "code",
   "execution_count": 12,
   "metadata": {},
   "outputs": [
    {
     "data": {
      "image/png": "[encoded data removed]",
      "text/plain": [
       "<Figure size 432x288 with 1 Axes>"
      ]
     },
     "metadata": {
      "needs_background": "light"
     },
     "output_type": "display_data"
    }
   ],
   "source": [
    "fig, ax = plt.subplots()\n",
    "ax.scatter(df4['Dmean'], df4['qr_prob'])\n",
    "plt.tight_layout()"
   ]
  },
  {
   "cell_type": "code",
   "execution_count": 13,
   "metadata": {},
   "outputs": [],
   "source": [
    "y = df4['qr_prob']"
   ]
  },
  {
   "cell_type": "code",
   "execution_count": 14,
   "metadata": {},
   "outputs": [
    {
     "data": {
      "text/plain": [
       "0     0.000022\n",
       "1     0.000167\n",
       "2     0.000259\n",
       "3     0.000286\n",
       "4     0.000527\n",
       "5     0.000714\n",
       "6     0.000476\n",
       "7     0.000890\n",
       "8     0.000571\n",
       "9     0.000517\n",
       "10    0.000950\n",
       "11    0.000175\n",
       "12         NaN\n",
       "Name: qr_prob, dtype: float64"
      ]
     },
     "execution_count": 14,
     "metadata": {},
     "output_type": "execute_result"
    }
   ],
   "source": [
    "y"
   ]
  },
  {
   "cell_type": "code",
   "execution_count": 15,
   "metadata": {},
   "outputs": [],
   "source": [
    "y_axis = y*1e4"
   ]
  },
  {
   "cell_type": "code",
   "execution_count": 17,
   "metadata": {},
   "outputs": [
    {
     "data": {
      "text/plain": [
       "0     0.222222\n",
       "1     1.666667\n",
       "2     2.592593\n",
       "3     2.857143\n",
       "4     5.272727\n",
       "5     7.142857\n",
       "6     4.761905\n",
       "7     8.896552\n",
       "8     5.714286\n",
       "9     5.172414\n",
       "10    9.500000\n",
       "11    1.750000\n",
       "12         NaN\n",
       "Name: qr_prob, dtype: float64"
      ]
     },
     "execution_count": 17,
     "metadata": {},
     "output_type": "execute_result"
    }
   ],
   "source": [
    "y_axis"
   ]
  },
  {
   "cell_type": "code",
   "execution_count": 16,
   "metadata": {},
   "outputs": [],
   "source": [
    "x_axis = df4['Dmean']"
   ]
  },
  {
   "cell_type": "code",
   "execution_count": null,
   "metadata": {},
   "outputs": [
    {
     "data": {
      "image/png": "[encoded data removed]",
      "text/plain": [
       "<Figure size 432x288 with 1 Axes>"
      ]
     },
     "metadata": {
      "needs_background": "light"
     },
     "output_type": "display_data"
    }
   ],
   "source": [
    "plt.scatter(x_axis, y_axis)\n",
    "plt.tight_layout()"
   ]
  },
  {
   "cell_type": "code",
   "execution_count": null,
   "metadata": {},
   "outputs": [],
   "source": []
  }
 ],
 "metadata": {
  "interpreter": {
   "hash": "7f2315f694e152c29e344141d749526cdfb5be5cc5e5949ea65827205c8677e7"
  },
  "kernelspec": {
   "display_name": "Python 3.8.8 ('base')",
   "language": "python",
   "name": "python3"
  },
  "language_info": {
   "codemirror_mode": {
    "name": "ipython",
    "version": 3
   },
   "file_extension": ".py",
   "mimetype": "text/x-python",
   "name": "python",
   "nbconvert_exporter": "python",
   "pygments_lexer": "ipython3",
   "version": "3.9.7"
  },
  "orig_nbformat": 4
 },
 "nbformat": 4,
 "nbformat_minor": 2
}
