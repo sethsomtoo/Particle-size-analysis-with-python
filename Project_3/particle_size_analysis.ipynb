{
 "cells": [
  {
   "cell_type": "markdown",
   "id": "7a68205c-5a2c-4a9e-af25-240d3f785da2",
   "metadata": {},
   "source": [
    "# Introduction"
   ]
  },
  {
   "cell_type": "markdown",
   "id": "48aff336-22d2-4762-94c2-70bc6e8c81b1",
   "metadata": {},
   "source": [
    "This notebook shows how python with the aid of jupyter notebook can be used to perform particle size analysis. An example dataset from a sieving analysis is going to be used for this purpose. The data contains a set of given mesh sizes in μm and the mass of particles retained in each sieve in g. With this data, the particle distribution is going to be calculated and plotted with the following plots:- Histograms, cumulative distribution curve (undersize) and frequency distribution curve. "
   ]
  },
  {
   "cell_type": "code",
   "execution_count": null,
   "id": "c974d519-fcd5-4b29-8c49-4f405a14af51",
   "metadata": {},
   "outputs": [],
   "source": []
  }
 ],
 "metadata": {
  "kernelspec": {
   "display_name": "Python 3",
   "language": "python",
   "name": "python3"
  },
  "language_info": {
   "codemirror_mode": {
    "name": "ipython",
    "version": 3
   },
   "file_extension": ".py",
   "mimetype": "text/x-python",
   "name": "python",
   "nbconvert_exporter": "python",
   "pygments_lexer": "ipython3",
   "version": "3.8.8"
  }
 },
 "nbformat": 4,
 "nbformat_minor": 5
}
