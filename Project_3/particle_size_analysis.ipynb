{
 "cells": [
  {
   "cell_type": "markdown",
   "id": "7a68205c-5a2c-4a9e-af25-240d3f785da2",
   "metadata": {},
   "source": [
    "# Introduction"
   ]
  },
  {
   "cell_type": "markdown",
   "id": "48aff336-22d2-4762-94c2-70bc6e8c81b1",
   "metadata": {},
   "source": [
    "This notebook shows how python with the aid of jupyter notebook can be used to perform particle size analysis. An example dataset from a sieving analysis is going to be used for this purpose. The data contains a set of given mesh sizes in μm and the mass of particles retained in each sieve in g. With this data, the particle distribution is going to be calculated and plotted with the following plots:- Histograms, cumulative distribution curve (undersize) and frequency distribution curve. The nice thing about jupyter notebook is that it allows for easy automation of the calculation process and can handle huge data fast and easy. However, certain things have to be kept in mind regarding the use of the notebook. More of this is explained in the markdown file:- \"README.md\" accompanying the folder where this file is located in. Follow this [link](https://github.com/sethsomtoo/Particle-size-analysis-with-python) for easy access to the whole file. Also contained in this folder is some literature created with \"jupyter notebook markdown\" to explain some things relating to particle size data presentation and interpretation. To proceed with the analysis, first the necessary built in python libraries (numpy, pandas and matplotlib) will have to be imported as the initial setup for the notebook. Numpy and pandas are built in python libraries that offer the necessary tools and functions to facilitate computation and data processing. Matplotlib is also a built in python library to facilitate the creation of plots and visualization of data with the aid of plots."
   ]
  },
  {
   "cell_type": "markdown",
   "id": "2ca791c6-8ab3-4cd1-a1a6-74b8651efdf1",
   "metadata": {},
   "source": [
    "# Importing the libraries and initial setup"
   ]
  },
  {
   "cell_type": "code",
   "execution_count": 1,
   "id": "89558693-4196-4c7a-8984-28a0084b8466",
   "metadata": {},
   "outputs": [],
   "source": [
    "import numpy as np\n",
    "import pandas as pd\n",
    "import matplotlib.pyplot as plt"
   ]
  },
  {
   "cell_type": "markdown",
   "id": "a108c49e-0c86-435a-acdf-c9d98149e378",
   "metadata": {},
   "source": [
    "After running the above codes, the data can then be created as follows:"
   ]
  },
  {
   "cell_type": "markdown",
   "id": "62410660-fb86-4f21-a385-aee6184d6d1b",
   "metadata": {},
   "source": [
    "# Creating the DataFrame"
   ]
  },
  {
   "cell_type": "code",
   "execution_count": 2,
   "id": "b0408e9f-36db-407f-a491-2d5ba94e5b0f",
   "metadata": {},
   "outputs": [
    {
     "data": {
      "text/html": [
       "<div>\n",
       "<style scoped>\n",
       "    .dataframe tbody tr th:only-of-type {\n",
       "        vertical-align: middle;\n",
       "    }\n",
       "\n",
       "    .dataframe tbody tr th {\n",
       "        vertical-align: top;\n",
       "    }\n",
       "\n",
       "    .dataframe thead th {\n",
       "        text-align: right;\n",
       "    }\n",
       "</style>\n",
       "<table border=\"1\" class=\"dataframe\">\n",
       "  <thead>\n",
       "    <tr style=\"text-align: right;\">\n",
       "      <th></th>\n",
       "      <th>Mesh size (μm)</th>\n",
       "      <th>Mass retained (g)</th>\n",
       "    </tr>\n",
       "  </thead>\n",
       "  <tbody>\n",
       "    <tr>\n",
       "      <th>0</th>\n",
       "      <td>0</td>\n",
       "      <td>1.10</td>\n",
       "    </tr>\n",
       "    <tr>\n",
       "      <th>1</th>\n",
       "      <td>45</td>\n",
       "      <td>1.90</td>\n",
       "    </tr>\n",
       "    <tr>\n",
       "      <th>2</th>\n",
       "      <td>63</td>\n",
       "      <td>5.25</td>\n",
       "    </tr>\n",
       "    <tr>\n",
       "      <th>3</th>\n",
       "      <td>90</td>\n",
       "      <td>7.50</td>\n",
       "    </tr>\n",
       "    <tr>\n",
       "      <th>4</th>\n",
       "      <td>125</td>\n",
       "      <td>21.80</td>\n",
       "    </tr>\n",
       "    <tr>\n",
       "      <th>5</th>\n",
       "      <td>180</td>\n",
       "      <td>37.50</td>\n",
       "    </tr>\n",
       "    <tr>\n",
       "      <th>6</th>\n",
       "      <td>250</td>\n",
       "      <td>37.50</td>\n",
       "    </tr>\n",
       "    <tr>\n",
       "      <th>7</th>\n",
       "      <td>355</td>\n",
       "      <td>97.00</td>\n",
       "    </tr>\n",
       "    <tr>\n",
       "      <th>8</th>\n",
       "      <td>500</td>\n",
       "      <td>90.00</td>\n",
       "    </tr>\n",
       "    <tr>\n",
       "      <th>9</th>\n",
       "      <td>710</td>\n",
       "      <td>112.50</td>\n",
       "    </tr>\n",
       "    <tr>\n",
       "      <th>10</th>\n",
       "      <td>1000</td>\n",
       "      <td>285.00</td>\n",
       "    </tr>\n",
       "    <tr>\n",
       "      <th>11</th>\n",
       "      <td>1400</td>\n",
       "      <td>52.50</td>\n",
       "    </tr>\n",
       "    <tr>\n",
       "      <th>12</th>\n",
       "      <td>1800</td>\n",
       "      <td>NaN</td>\n",
       "    </tr>\n",
       "  </tbody>\n",
       "</table>\n",
       "</div>"
      ],
      "text/plain": [
       "    Mesh size (μm)  Mass retained (g)\n",
       "0                0               1.10\n",
       "1               45               1.90\n",
       "2               63               5.25\n",
       "3               90               7.50\n",
       "4              125              21.80\n",
       "5              180              37.50\n",
       "6              250              37.50\n",
       "7              355              97.00\n",
       "8              500              90.00\n",
       "9              710             112.50\n",
       "10            1000             285.00\n",
       "11            1400              52.50\n",
       "12            1800                NaN"
      ]
     },
     "execution_count": 2,
     "metadata": {},
     "output_type": "execute_result"
    }
   ],
   "source": [
    "data = {\"Mesh size (μm)\" : [0, 45, 63, 90, 125, 180, 250, 355, 500, 710, 1000, 1400, 1800],\n",
    "       \"Mass retained (g)\" : [1.1, 1.9, 5.25, 7.5, 21.8, 37.5, 37.5, 97, 90, 112.5, 285, 52.5, np.nan]}\n",
    "\n",
    "df = pd.DataFrame(data)\n",
    "df"
   ]
  },
  {
   "cell_type": "markdown",
   "id": "6b4cdccb-5c47-4ae9-8da2-8dc1522c155a",
   "metadata": {},
   "source": [
    "In this case as presented above, the data was created directly in this notebook. However, it could be possible to also import data on particle sizes from other sources such as excel into jupyter notebook and the pandas library is very good with this. More on how to do this can be found in this [link](https://pandas.pydata.org/docs/reference/api/pandas.read_csv.html) to pandas documentation. The above data is an example data from a sieve analysis. The sieve is arranged here from bottom to top. In order to ensure a good representation of the distribution plot, an imaginary value for the mesh size was assumed at the very top but of course there is nothing collected here as everything falls through this sieve. This will be shown later. The mass here represents the mass of particles in grams collected on each sieve. It is important to note that here, the mass was given but it can also be given as \"quantity by percent\", \"volume\" or the \"surface area\" in each sieve. However, it is common to represent the sizes collected as a mass or quantity in percentage. With this data, an histogram showing the size distribution can then be plotted. "
   ]
  },
  {
   "cell_type": "markdown",
   "id": "699fb128-ebc5-4509-a97e-779b4c672a0e",
   "metadata": {},
   "source": [
    "# Histogram"
   ]
  },
  {
   "cell_type": "markdown",
   "id": "783ca6cf-1717-47af-9ad6-7273932ed053",
   "metadata": {},
   "source": [
    "To plot the histogram, the data shall be divided into the class sizes by calculating the width between intervals. Also the mass fractions and the quantity function (qr) will also be calculated and added to the data frame. The quantity distribution $q_{r}$ is calculated as follows:  \n",
    "\n",
    "\n",
    "$$ q_{r,i} = \\frac{\\Delta \\mu_{i}}{\\mu_{ges} * \\Delta x_{i}} $$\n",
    "\n",
    "Where, r = quantity type \n",
    "\n",
    "$\\Delta \\mu_{i}$ = quantity fraction in interval i \n",
    "\n",
    "$\\mu_{ges}$ = total quantity between $x_{min}$ and $x_{max}$ \n",
    "\n",
    "and $\\Delta x$ = size interval of the mesh sizes  "
   ]
  },
  {
   "cell_type": "markdown",
   "id": "dce98cac-a38a-4ec7-a1ab-b320eda76786",
   "metadata": {},
   "source": [
    "## Calculate the quantitiy distribution fucntion, $q_{r}$ for the histogram"
   ]
  },
  {
   "cell_type": "code",
   "execution_count": 3,
   "id": "8028e943-91f7-465f-bd29-4a38b0eb231b",
   "metadata": {},
   "outputs": [],
   "source": [
    "# Define the function for mass fractions\n",
    "def mass_fraction(mass):\n",
    "    '''This function requires the column of mass retained from the data frame to be parsed in.\n",
    "    It will then compute the mass fractions.\n",
    "    '''\n",
    "    mass_frac = (mass / mass.sum()).round(3)\n",
    "    return mass_frac"
   ]
  },
  {
   "cell_type": "code",
   "execution_count": 4,
   "id": "66988542-4e01-45fe-a140-d08a4666ad23",
   "metadata": {},
   "outputs": [],
   "source": [
    "# Define the function for the width i.e size of intervals\n",
    "def class_width(mesh):\n",
    "    ''' The column of mesh sizes from the data can be parsed into this function as the arguement.\n",
    "    The function then uses the mesh sizes to compute the width.\n",
    "    '''\n",
    "    widths = mesh.diff()\n",
    "    return widths"
   ]
  },
  {
   "cell_type": "code",
   "execution_count": 5,
   "id": "6a360d6c-bae1-4bf2-a792-4ce9bf946830",
   "metadata": {},
   "outputs": [
    {
     "data": {
      "text/html": [
       "<div>\n",
       "<style scoped>\n",
       "    .dataframe tbody tr th:only-of-type {\n",
       "        vertical-align: middle;\n",
       "    }\n",
       "\n",
       "    .dataframe tbody tr th {\n",
       "        vertical-align: top;\n",
       "    }\n",
       "\n",
       "    .dataframe thead th {\n",
       "        text-align: right;\n",
       "    }\n",
       "</style>\n",
       "<table border=\"1\" class=\"dataframe\">\n",
       "  <thead>\n",
       "    <tr style=\"text-align: right;\">\n",
       "      <th></th>\n",
       "      <th>Mesh size (μm)</th>\n",
       "      <th>Mass retained (g)</th>\n",
       "      <th>Mass fraction</th>\n",
       "      <th>Class width (μm)</th>\n",
       "      <th>$q_{r}$</th>\n",
       "    </tr>\n",
       "  </thead>\n",
       "  <tbody>\n",
       "    <tr>\n",
       "      <th>0</th>\n",
       "      <td>0</td>\n",
       "      <td>1.10</td>\n",
       "      <td>0.001</td>\n",
       "      <td>45.0</td>\n",
       "      <td>0.000022</td>\n",
       "    </tr>\n",
       "    <tr>\n",
       "      <th>1</th>\n",
       "      <td>45</td>\n",
       "      <td>1.90</td>\n",
       "      <td>0.003</td>\n",
       "      <td>18.0</td>\n",
       "      <td>0.000167</td>\n",
       "    </tr>\n",
       "    <tr>\n",
       "      <th>2</th>\n",
       "      <td>63</td>\n",
       "      <td>5.25</td>\n",
       "      <td>0.007</td>\n",
       "      <td>27.0</td>\n",
       "      <td>0.000259</td>\n",
       "    </tr>\n",
       "    <tr>\n",
       "      <th>3</th>\n",
       "      <td>90</td>\n",
       "      <td>7.50</td>\n",
       "      <td>0.010</td>\n",
       "      <td>35.0</td>\n",
       "      <td>0.000286</td>\n",
       "    </tr>\n",
       "    <tr>\n",
       "      <th>4</th>\n",
       "      <td>125</td>\n",
       "      <td>21.80</td>\n",
       "      <td>0.029</td>\n",
       "      <td>55.0</td>\n",
       "      <td>0.000527</td>\n",
       "    </tr>\n",
       "    <tr>\n",
       "      <th>5</th>\n",
       "      <td>180</td>\n",
       "      <td>37.50</td>\n",
       "      <td>0.050</td>\n",
       "      <td>70.0</td>\n",
       "      <td>0.000714</td>\n",
       "    </tr>\n",
       "    <tr>\n",
       "      <th>6</th>\n",
       "      <td>250</td>\n",
       "      <td>37.50</td>\n",
       "      <td>0.050</td>\n",
       "      <td>105.0</td>\n",
       "      <td>0.000476</td>\n",
       "    </tr>\n",
       "    <tr>\n",
       "      <th>7</th>\n",
       "      <td>355</td>\n",
       "      <td>97.00</td>\n",
       "      <td>0.129</td>\n",
       "      <td>145.0</td>\n",
       "      <td>0.000890</td>\n",
       "    </tr>\n",
       "    <tr>\n",
       "      <th>8</th>\n",
       "      <td>500</td>\n",
       "      <td>90.00</td>\n",
       "      <td>0.120</td>\n",
       "      <td>210.0</td>\n",
       "      <td>0.000571</td>\n",
       "    </tr>\n",
       "    <tr>\n",
       "      <th>9</th>\n",
       "      <td>710</td>\n",
       "      <td>112.50</td>\n",
       "      <td>0.150</td>\n",
       "      <td>290.0</td>\n",
       "      <td>0.000517</td>\n",
       "    </tr>\n",
       "    <tr>\n",
       "      <th>10</th>\n",
       "      <td>1000</td>\n",
       "      <td>285.00</td>\n",
       "      <td>0.380</td>\n",
       "      <td>400.0</td>\n",
       "      <td>0.000950</td>\n",
       "    </tr>\n",
       "    <tr>\n",
       "      <th>11</th>\n",
       "      <td>1400</td>\n",
       "      <td>52.50</td>\n",
       "      <td>0.070</td>\n",
       "      <td>400.0</td>\n",
       "      <td>0.000175</td>\n",
       "    </tr>\n",
       "    <tr>\n",
       "      <th>12</th>\n",
       "      <td>1800</td>\n",
       "      <td>NaN</td>\n",
       "      <td>NaN</td>\n",
       "      <td>NaN</td>\n",
       "      <td>NaN</td>\n",
       "    </tr>\n",
       "  </tbody>\n",
       "</table>\n",
       "</div>"
      ],
      "text/plain": [
       "    Mesh size (μm)  Mass retained (g)  Mass fraction  Class width (μm)  \\\n",
       "0                0               1.10          0.001              45.0   \n",
       "1               45               1.90          0.003              18.0   \n",
       "2               63               5.25          0.007              27.0   \n",
       "3               90               7.50          0.010              35.0   \n",
       "4              125              21.80          0.029              55.0   \n",
       "5              180              37.50          0.050              70.0   \n",
       "6              250              37.50          0.050             105.0   \n",
       "7              355              97.00          0.129             145.0   \n",
       "8              500              90.00          0.120             210.0   \n",
       "9              710             112.50          0.150             290.0   \n",
       "10            1000             285.00          0.380             400.0   \n",
       "11            1400              52.50          0.070             400.0   \n",
       "12            1800                NaN            NaN               NaN   \n",
       "\n",
       "     $q_{r}$  \n",
       "0   0.000022  \n",
       "1   0.000167  \n",
       "2   0.000259  \n",
       "3   0.000286  \n",
       "4   0.000527  \n",
       "5   0.000714  \n",
       "6   0.000476  \n",
       "7   0.000890  \n",
       "8   0.000571  \n",
       "9   0.000517  \n",
       "10  0.000950  \n",
       "11  0.000175  \n",
       "12       NaN  "
      ]
     },
     "execution_count": 5,
     "metadata": {},
     "output_type": "execute_result"
    }
   ],
   "source": [
    "# Compute the mass fractions and the class widths by calling the respective functions\n",
    "df2 = df.copy()\n",
    "df2['Mass fraction'] = mass_fraction(df2['Mass retained (g)'])            #Calculates the mass fractions\n",
    "df2['Class width (μm)'] = class_width(df2['Mesh size (μm)']).shift(-1)    #Calculates the class sizes \n",
    "\n",
    "# Compute the quantity distribution function for the histogram\n",
    "df2['$q_{r}$'] = df2['Mass fraction'] / df2['Class width (μm)']\n",
    "df2"
   ]
  },
  {
   "cell_type": "markdown",
   "id": "2d5ea773-e021-4612-a5eb-ff5dfefc9566",
   "metadata": {},
   "source": [
    "## Create the Histogram plot "
   ]
  },
  {
   "cell_type": "code",
   "execution_count": 6,
   "id": "2936e7b1-ea40-467f-8f13-b0f693a1e0bb",
   "metadata": {},
   "outputs": [
    {
     "data": {
      "image/png": "[encoded data removed]",
      "text/plain": [
       "<Figure size 432x288 with 1 Axes>"
      ]
     },
     "metadata": {
      "needs_background": "light"
     },
     "output_type": "display_data"
    }
   ],
   "source": [
    "fig, ax = plt.subplots()\n",
    "plt.bar(df2['Mesh size (μm)'], df2['$q_{r}$'], width=df2['Class width (μm)'], align='edge', edgecolor='white' )\n",
    "plt.tight_layout()\n",
    "\n",
    "ax.set_xlabel('Particle sizes (μm)')\n",
    "ax.set_ylabel('Quantity by mass fractions')\n",
    "ax.set_title('Histogram')\n",
    "plt.figtext(0.5,-0.05, s = \"Fig 1: This is the histogram showing the distruíbution of particle sizes\", \n",
    "            wrap=True, horizontalalignment='center')\n",
    "\n",
    "plt.tight_layout()"
   ]
  },
  {
   "cell_type": "markdown",
   "id": "042cbdd3-1994-4126-8fce-ab450ac84d88",
   "metadata": {},
   "source": [
    "## Alternative plot of the Histogram in Semi-log scale "
   ]
  },
  {
   "cell_type": "markdown",
   "id": "b0bbd83a-8915-4214-a62c-acbbaec78788",
   "metadata": {},
   "source": [
    "In the plot above, the height of the bars represents the amount of particles in a specific size class while the width of the bar shows the size of the class width. Also it can also be seen from the plot that there is a geometric progression increase in the particle size class and this is normal in particle size analysis. However, to get an even constant bar width, which is helpful in simplifying the interpretation of the histogram, the x_axis can be set to a log scale to obtain the figure in fig 2 shown below. "
   ]
  },
  {
   "cell_type": "code",
   "execution_count": 7,
   "id": "8971cd16-5309-46e1-9725-69f5b12c1c2e",
   "metadata": {},
   "outputs": [
    {
     "data": {
      "image/png": "[encoded data removed]",
      "text/plain": [
       "<Figure size 432x288 with 1 Axes>"
      ]
     },
     "metadata": {
      "needs_background": "light"
     },
     "output_type": "display_data"
    }
   ],
   "source": [
    "#plotting the histogram using semilog\n",
    "fig, ax = plt.subplots()\n",
    "plt.bar(df2['Mesh size (μm)'], df2['$q_{r}$'], width=df2['Class width (μm)'], align='edge', edgecolor='white')\n",
    "\n",
    "ax.set_xlabel('Particle sizes (μm)')\n",
    "ax.set_ylabel('Quantity by mass fractions')\n",
    "ax.set_title('Histogram')\n",
    "plt.figtext(0.5,-0.05, s = \" Fig 2: This is the histogram showing the distruíbution of particle sizes but with a log scale on the x-axis\", \n",
    "            wrap=True, horizontalalignment='center')\n",
    "\n",
    "plt.tight_layout()\n",
    "\n",
    "ax.set_xscale('log')"
   ]
  },
  {
   "cell_type": "markdown",
   "id": "784594fc-03f6-4d85-bb95-ca320428f830",
   "metadata": {},
   "source": [
    "# Cumulative distribution"
   ]
  },
  {
   "cell_type": "markdown",
   "id": "db8ce6fc-bbe4-4ef2-8bfd-116e6539f6a3",
   "metadata": {},
   "source": [
    "A cumulative distribution curve offers a more useful way to visualize and analyse the results. This is because it offers more precision and eliminates the imprecision from having to look at particles sizes over wide width of size classes as shown in the histogram plot. The cumulative distribution can be visualized in two ways:- 1. From the small sizes up to the bigger particles. For example, in a sieve analysis, this would be from the top of the sieve down to the bottom (Undersize) 2. It can also be viewed from the big sizes down to the smaller sizes (Oversize).\n",
    "A plot of both ways should normally intersect at a point which will be the median which is 50 %  of all the value set in the analysis. Both plots yield thesame results for interpretation. The cumulative distribution function is calculated as follows:\n",
    "\n",
    "$$ Q_{r}  = \\frac{quantity\\, fraction\\, x_{min}...x_{i}}{total\\, quantity\\, x_{min}...x_{max}} $$ "
   ]
  },
  {
   "cell_type": "markdown",
   "id": "63f328fc-60a2-444a-a804-c02349d376c6",
   "metadata": {},
   "source": [
    "## Calculate the cumulative distribution function, $Q_{r}$"
   ]
  },
  {
   "cell_type": "code",
   "execution_count": 8,
   "id": "afe7cb48-5148-4770-a512-0993c6cbda63",
   "metadata": {},
   "outputs": [],
   "source": [
    "# Define function for calculating the cumulative distribution function (undersize)\n",
    "def Qr_undersize(mass_frac):\n",
    "    ''' The mass fraction from the dataframe has to be parsed into this function which then uses \n",
    "    the mass fractions to calculate the Qr undersize distribution function.\n",
    "    '''\n",
    "    Qr = mass_frac.cumsum()\n",
    "    return Qr"
   ]
  },
  {
   "cell_type": "code",
   "execution_count": 9,
   "id": "5f088855-b422-43c8-a90f-c3239a9d338f",
   "metadata": {},
   "outputs": [],
   "source": [
    "def Qr_oversize(Under):\n",
    "    ''' The undersize Qr function from the dataframe is parsed into the function and then \n",
    "    the Qr oversize function can be calculated.\n",
    "    '''\n",
    "    Qr = Under.apply(lambda x: 1 - x)\n",
    "    return Qr"
   ]
  },
  {
   "cell_type": "code",
   "execution_count": 10,
   "id": "df46555a-0571-4017-ab7e-311dc1aa2377",
   "metadata": {},
   "outputs": [
    {
     "data": {
      "text/html": [
       "<div>\n",
       "<style scoped>\n",
       "    .dataframe tbody tr th:only-of-type {\n",
       "        vertical-align: middle;\n",
       "    }\n",
       "\n",
       "    .dataframe tbody tr th {\n",
       "        vertical-align: top;\n",
       "    }\n",
       "\n",
       "    .dataframe thead th {\n",
       "        text-align: right;\n",
       "    }\n",
       "</style>\n",
       "<table border=\"1\" class=\"dataframe\">\n",
       "  <thead>\n",
       "    <tr style=\"text-align: right;\">\n",
       "      <th></th>\n",
       "      <th>Mesh size (μm)</th>\n",
       "      <th>Mass retained (g)</th>\n",
       "      <th>Mass fraction</th>\n",
       "      <th>Undersize Qr</th>\n",
       "      <th>Oversize Qr</th>\n",
       "    </tr>\n",
       "  </thead>\n",
       "  <tbody>\n",
       "    <tr>\n",
       "      <th>0</th>\n",
       "      <td>0</td>\n",
       "      <td>1.10</td>\n",
       "      <td>0.001</td>\n",
       "      <td>0.001</td>\n",
       "      <td>0.999</td>\n",
       "    </tr>\n",
       "    <tr>\n",
       "      <th>1</th>\n",
       "      <td>45</td>\n",
       "      <td>1.90</td>\n",
       "      <td>0.003</td>\n",
       "      <td>0.004</td>\n",
       "      <td>0.996</td>\n",
       "    </tr>\n",
       "    <tr>\n",
       "      <th>2</th>\n",
       "      <td>63</td>\n",
       "      <td>5.25</td>\n",
       "      <td>0.007</td>\n",
       "      <td>0.011</td>\n",
       "      <td>0.989</td>\n",
       "    </tr>\n",
       "    <tr>\n",
       "      <th>3</th>\n",
       "      <td>90</td>\n",
       "      <td>7.50</td>\n",
       "      <td>0.010</td>\n",
       "      <td>0.021</td>\n",
       "      <td>0.979</td>\n",
       "    </tr>\n",
       "    <tr>\n",
       "      <th>4</th>\n",
       "      <td>125</td>\n",
       "      <td>21.80</td>\n",
       "      <td>0.029</td>\n",
       "      <td>0.050</td>\n",
       "      <td>0.950</td>\n",
       "    </tr>\n",
       "    <tr>\n",
       "      <th>5</th>\n",
       "      <td>180</td>\n",
       "      <td>37.50</td>\n",
       "      <td>0.050</td>\n",
       "      <td>0.100</td>\n",
       "      <td>0.900</td>\n",
       "    </tr>\n",
       "    <tr>\n",
       "      <th>6</th>\n",
       "      <td>250</td>\n",
       "      <td>37.50</td>\n",
       "      <td>0.050</td>\n",
       "      <td>0.150</td>\n",
       "      <td>0.850</td>\n",
       "    </tr>\n",
       "    <tr>\n",
       "      <th>7</th>\n",
       "      <td>355</td>\n",
       "      <td>97.00</td>\n",
       "      <td>0.129</td>\n",
       "      <td>0.279</td>\n",
       "      <td>0.721</td>\n",
       "    </tr>\n",
       "    <tr>\n",
       "      <th>8</th>\n",
       "      <td>500</td>\n",
       "      <td>90.00</td>\n",
       "      <td>0.120</td>\n",
       "      <td>0.399</td>\n",
       "      <td>0.601</td>\n",
       "    </tr>\n",
       "    <tr>\n",
       "      <th>9</th>\n",
       "      <td>710</td>\n",
       "      <td>112.50</td>\n",
       "      <td>0.150</td>\n",
       "      <td>0.549</td>\n",
       "      <td>0.451</td>\n",
       "    </tr>\n",
       "    <tr>\n",
       "      <th>10</th>\n",
       "      <td>1000</td>\n",
       "      <td>285.00</td>\n",
       "      <td>0.380</td>\n",
       "      <td>0.929</td>\n",
       "      <td>0.071</td>\n",
       "    </tr>\n",
       "    <tr>\n",
       "      <th>11</th>\n",
       "      <td>1400</td>\n",
       "      <td>52.50</td>\n",
       "      <td>0.070</td>\n",
       "      <td>0.999</td>\n",
       "      <td>0.001</td>\n",
       "    </tr>\n",
       "    <tr>\n",
       "      <th>12</th>\n",
       "      <td>1800</td>\n",
       "      <td>NaN</td>\n",
       "      <td>NaN</td>\n",
       "      <td>NaN</td>\n",
       "      <td>NaN</td>\n",
       "    </tr>\n",
       "  </tbody>\n",
       "</table>\n",
       "</div>"
      ],
      "text/plain": [
       "    Mesh size (μm)  Mass retained (g)  Mass fraction  Undersize Qr  \\\n",
       "0                0               1.10          0.001         0.001   \n",
       "1               45               1.90          0.003         0.004   \n",
       "2               63               5.25          0.007         0.011   \n",
       "3               90               7.50          0.010         0.021   \n",
       "4              125              21.80          0.029         0.050   \n",
       "5              180              37.50          0.050         0.100   \n",
       "6              250              37.50          0.050         0.150   \n",
       "7              355              97.00          0.129         0.279   \n",
       "8              500              90.00          0.120         0.399   \n",
       "9              710             112.50          0.150         0.549   \n",
       "10            1000             285.00          0.380         0.929   \n",
       "11            1400              52.50          0.070         0.999   \n",
       "12            1800                NaN            NaN           NaN   \n",
       "\n",
       "    Oversize Qr  \n",
       "0         0.999  \n",
       "1         0.996  \n",
       "2         0.989  \n",
       "3         0.979  \n",
       "4         0.950  \n",
       "5         0.900  \n",
       "6         0.850  \n",
       "7         0.721  \n",
       "8         0.601  \n",
       "9         0.451  \n",
       "10        0.071  \n",
       "11        0.001  \n",
       "12          NaN  "
      ]
     },
     "execution_count": 10,
     "metadata": {},
     "output_type": "execute_result"
    }
   ],
   "source": [
    "df3 = df.copy()\n",
    "df3['Mass fraction'] = mass_fraction(df3['Mass retained (g)'])    #Calculates the mass fractions\n",
    "df3['Undersize Qr'] = Qr_undersize(df3['Mass fraction'])          #Calculates the cumulative distribution function (Undersize)\n",
    "df3['Oversize Qr'] = Qr_oversize(df3['Undersize Qr'])             #Calculates the cumulative distribution function (Oversize)\n",
    "df3"
   ]
  },
  {
   "cell_type": "markdown",
   "id": "15a63dda-dbe1-43a9-8464-391afb553c02",
   "metadata": {},
   "source": [
    "## Generate the cumulative distribution curve"
   ]
  },
  {
   "cell_type": "code",
   "execution_count": 11,
   "id": "790c416d-66e7-465a-ba06-59d0b0267fd4",
   "metadata": {},
   "outputs": [
    {
     "data": {
      "text/plain": [
       "Text(0.5, -0.05, 'Fig 3: Plot of the cumulative distribution when looking from small to large sizes(Oversize) and also from large to small (Undersize)')"
      ]
     },
     "execution_count": 11,
     "metadata": {},
     "output_type": "execute_result"
    },
    {
     "data": {
      "image/png": "[encoded data removed]",
      "text/plain": [
       "<Figure size 432x288 with 1 Axes>"
      ]
     },
     "metadata": {
      "needs_background": "light"
     },
     "output_type": "display_data"
    }
   ],
   "source": [
    "#Generate the plot\n",
    "fig, ax = plt.subplots()\n",
    "ax.plot(df3['Mesh size (μm)'], df3['Undersize Qr'])\n",
    "ax.plot(df3['Mesh size (μm)'], df3['Oversize Qr'], 'r')\n",
    "plt.margins(0)\n",
    "\n",
    "plt.legend(['Undersize', 'Oversize'])\n",
    "ax.set_xlabel(\"Particle sizes (μm)\")\n",
    "ax.set_ylabel(\"$Q_{3}$\")\n",
    "ax.set_title(\"Cumulative distribution\")\n",
    "\n",
    "plt.figtext(0.5,-0.05,\n",
    " s = \"Fig 3: Plot of the cumulative distribution when looking from small to large sizes(Oversize) and also from large to small (Undersize)\", \n",
    " wrap=True, horizontalalignment='center')"
   ]
  },
  {
   "cell_type": "markdown",
   "id": "97418540-f62d-4337-bce5-cd7db6be0ea4",
   "metadata": {},
   "source": [
    "The plot above represents the size distribution of the particles where the value 1.0 represents 100 % of the particle sizes. This offers precise values of quantity of particles by mass as a function of the precise values of particle sizes, thus better precision. "
   ]
  },
  {
   "cell_type": "markdown",
   "id": "0dba264f-a49f-4805-bfd1-e2ccd522181b",
   "metadata": {},
   "source": [
    "# Probability density curve"
   ]
  },
  {
   "cell_type": "markdown",
   "id": "43f659c2-8990-4a5d-a74e-f2d5cdfe3c00",
   "metadata": {},
   "source": [
    "The probabilty density curve is a curve of the probability density function $q_{r}$ against the mean of the mesh size intervals. The probability density function is calculated as follows:\n",
    "\n",
    "$$ q_{r} = \\frac{quantity\\, fraction\\, x_{min}...x_{i}}{total\\, quantity\\, x_{min}...x_{max} * size\\, of\\, the\\, interval}$$"
   ]
  },
  {
   "cell_type": "markdown",
   "id": "8155ec83-b972-4ecb-b1b6-e3358b1cd335",
   "metadata": {},
   "source": [
    "## Calculate the probability density function $q_{r}$"
   ]
  },
  {
   "cell_type": "code",
   "execution_count": 12,
   "id": "d8112166-77b0-4412-99e6-5c52c292f02d",
   "metadata": {},
   "outputs": [],
   "source": [
    "# Define the function to calculate Dmean\n",
    "def mean_size(mesh):\n",
    "    '''\n",
    "    '''\n",
    "    Dmean = mesh.rolling(2).mean().shift(-1)\n",
    "    return Dmean"
   ]
  },
  {
   "cell_type": "code",
   "execution_count": 13,
   "id": "579cac0a-1716-4341-9e46-3e7344475efa",
   "metadata": {},
   "outputs": [
    {
     "data": {
      "text/html": [
       "<div>\n",
       "<style scoped>\n",
       "    .dataframe tbody tr th:only-of-type {\n",
       "        vertical-align: middle;\n",
       "    }\n",
       "\n",
       "    .dataframe tbody tr th {\n",
       "        vertical-align: top;\n",
       "    }\n",
       "\n",
       "    .dataframe thead th {\n",
       "        text-align: right;\n",
       "    }\n",
       "</style>\n",
       "<table border=\"1\" class=\"dataframe\">\n",
       "  <thead>\n",
       "    <tr style=\"text-align: right;\">\n",
       "      <th></th>\n",
       "      <th>Mesh size (μm)</th>\n",
       "      <th>Mass retained (g)</th>\n",
       "      <th>Mass fraction</th>\n",
       "      <th>Class width (μm)</th>\n",
       "      <th>Dmean (μm)</th>\n",
       "      <th>qr_prob</th>\n",
       "    </tr>\n",
       "  </thead>\n",
       "  <tbody>\n",
       "    <tr>\n",
       "      <th>0</th>\n",
       "      <td>0</td>\n",
       "      <td>1.10</td>\n",
       "      <td>0.001</td>\n",
       "      <td>45.0</td>\n",
       "      <td>22.5</td>\n",
       "      <td>0.000022</td>\n",
       "    </tr>\n",
       "    <tr>\n",
       "      <th>1</th>\n",
       "      <td>45</td>\n",
       "      <td>1.90</td>\n",
       "      <td>0.003</td>\n",
       "      <td>18.0</td>\n",
       "      <td>54.0</td>\n",
       "      <td>0.000167</td>\n",
       "    </tr>\n",
       "    <tr>\n",
       "      <th>2</th>\n",
       "      <td>63</td>\n",
       "      <td>5.25</td>\n",
       "      <td>0.007</td>\n",
       "      <td>27.0</td>\n",
       "      <td>76.5</td>\n",
       "      <td>0.000259</td>\n",
       "    </tr>\n",
       "    <tr>\n",
       "      <th>3</th>\n",
       "      <td>90</td>\n",
       "      <td>7.50</td>\n",
       "      <td>0.010</td>\n",
       "      <td>35.0</td>\n",
       "      <td>107.5</td>\n",
       "      <td>0.000286</td>\n",
       "    </tr>\n",
       "    <tr>\n",
       "      <th>4</th>\n",
       "      <td>125</td>\n",
       "      <td>21.80</td>\n",
       "      <td>0.029</td>\n",
       "      <td>55.0</td>\n",
       "      <td>152.5</td>\n",
       "      <td>0.000527</td>\n",
       "    </tr>\n",
       "    <tr>\n",
       "      <th>5</th>\n",
       "      <td>180</td>\n",
       "      <td>37.50</td>\n",
       "      <td>0.050</td>\n",
       "      <td>70.0</td>\n",
       "      <td>215.0</td>\n",
       "      <td>0.000714</td>\n",
       "    </tr>\n",
       "    <tr>\n",
       "      <th>6</th>\n",
       "      <td>250</td>\n",
       "      <td>37.50</td>\n",
       "      <td>0.050</td>\n",
       "      <td>105.0</td>\n",
       "      <td>302.5</td>\n",
       "      <td>0.000476</td>\n",
       "    </tr>\n",
       "    <tr>\n",
       "      <th>7</th>\n",
       "      <td>355</td>\n",
       "      <td>97.00</td>\n",
       "      <td>0.129</td>\n",
       "      <td>145.0</td>\n",
       "      <td>427.5</td>\n",
       "      <td>0.000890</td>\n",
       "    </tr>\n",
       "    <tr>\n",
       "      <th>8</th>\n",
       "      <td>500</td>\n",
       "      <td>90.00</td>\n",
       "      <td>0.120</td>\n",
       "      <td>210.0</td>\n",
       "      <td>605.0</td>\n",
       "      <td>0.000571</td>\n",
       "    </tr>\n",
       "    <tr>\n",
       "      <th>9</th>\n",
       "      <td>710</td>\n",
       "      <td>112.50</td>\n",
       "      <td>0.150</td>\n",
       "      <td>290.0</td>\n",
       "      <td>855.0</td>\n",
       "      <td>0.000517</td>\n",
       "    </tr>\n",
       "    <tr>\n",
       "      <th>10</th>\n",
       "      <td>1000</td>\n",
       "      <td>285.00</td>\n",
       "      <td>0.380</td>\n",
       "      <td>400.0</td>\n",
       "      <td>1200.0</td>\n",
       "      <td>0.000950</td>\n",
       "    </tr>\n",
       "    <tr>\n",
       "      <th>11</th>\n",
       "      <td>1400</td>\n",
       "      <td>52.50</td>\n",
       "      <td>0.070</td>\n",
       "      <td>400.0</td>\n",
       "      <td>1600.0</td>\n",
       "      <td>0.000175</td>\n",
       "    </tr>\n",
       "    <tr>\n",
       "      <th>12</th>\n",
       "      <td>1800</td>\n",
       "      <td>NaN</td>\n",
       "      <td>NaN</td>\n",
       "      <td>NaN</td>\n",
       "      <td>NaN</td>\n",
       "      <td>NaN</td>\n",
       "    </tr>\n",
       "  </tbody>\n",
       "</table>\n",
       "</div>"
      ],
      "text/plain": [
       "    Mesh size (μm)  Mass retained (g)  Mass fraction  Class width (μm)  \\\n",
       "0                0               1.10          0.001              45.0   \n",
       "1               45               1.90          0.003              18.0   \n",
       "2               63               5.25          0.007              27.0   \n",
       "3               90               7.50          0.010              35.0   \n",
       "4              125              21.80          0.029              55.0   \n",
       "5              180              37.50          0.050              70.0   \n",
       "6              250              37.50          0.050             105.0   \n",
       "7              355              97.00          0.129             145.0   \n",
       "8              500              90.00          0.120             210.0   \n",
       "9              710             112.50          0.150             290.0   \n",
       "10            1000             285.00          0.380             400.0   \n",
       "11            1400              52.50          0.070             400.0   \n",
       "12            1800                NaN            NaN               NaN   \n",
       "\n",
       "    Dmean (μm)   qr_prob  \n",
       "0         22.5  0.000022  \n",
       "1         54.0  0.000167  \n",
       "2         76.5  0.000259  \n",
       "3        107.5  0.000286  \n",
       "4        152.5  0.000527  \n",
       "5        215.0  0.000714  \n",
       "6        302.5  0.000476  \n",
       "7        427.5  0.000890  \n",
       "8        605.0  0.000571  \n",
       "9        855.0  0.000517  \n",
       "10      1200.0  0.000950  \n",
       "11      1600.0  0.000175  \n",
       "12         NaN       NaN  "
      ]
     },
     "execution_count": 13,
     "metadata": {},
     "output_type": "execute_result"
    }
   ],
   "source": [
    "# Compute the mass fractions, class sizes and the means.\n",
    "df4 = df.copy()\n",
    "df4['Mass fraction'] = mass_fraction(df4['Mass retained (g)'])           #Computes the mass fractions\n",
    "df4['Class width (μm)'] = class_width(df4['Mesh size (μm)']).shift(-1)   #Computes the class width\n",
    "df4['Dmean (μm)'] = mean_size(df4['Mesh size (μm)'])                     #Computes the means\n",
    "df4['qr_prob'] = df4['Mass fraction'] / df4['Class width (μm)']          #Computes the probability density function qr\n",
    "df4"
   ]
  },
  {
   "cell_type": "markdown",
   "id": "6402cf61-8cbb-43cc-8c42-a2dbc73761cf",
   "metadata": {},
   "source": [
    "## Plotting the probability density curve"
   ]
  },
  {
   "cell_type": "code",
   "execution_count": 14,
   "id": "86f2f9d2-03b2-4d62-a5e7-e679b1ec19c4",
   "metadata": {},
   "outputs": [
    {
     "data": {
      "text/plain": [
       "Text(0.5, -0.05, 'Fig 5: The probability density plotted as a function of the mean of each size interval Dmean')"
      ]
     },
     "execution_count": 14,
     "metadata": {},
     "output_type": "execute_result"
    },
    {
     "data": {
      "image/png": "[encoded data removed]",
      "text/plain": [
       "<Figure size 432x288 with 1 Axes>"
      ]
     },
     "metadata": {
      "needs_background": "light"
     },
     "output_type": "display_data"
    }
   ],
   "source": [
    "#Generate the plot  \n",
    "fig, ax = plt.subplots()\n",
    "\n",
    "ax.plot(df4['Dmean (μm)'], df4['qr_prob'])\n",
    "\n",
    "ax.set_xlabel(\"Dmean (μm)\")\n",
    "ax.set_ylabel(\"Probability density, $q_{3}$\")\n",
    "ax.set_title(\"Probability density curve\")\n",
    "\n",
    "plt.figtext(0.5,-0.05, s = \"Fig 5: The probability density plotted as a function of the mean of each size interval Dmean\", \n",
    "            wrap=True, horizontalalignment='center')"
   ]
  },
  {
   "cell_type": "code",
   "execution_count": null,
   "id": "ae0c6d64-ea88-4e3c-879c-0f0912ee21a5",
   "metadata": {},
   "outputs": [],
   "source": []
  }
 ],
 "metadata": {
  "kernelspec": {
   "display_name": "Python 3",
   "language": "python",
   "name": "python3"
  },
  "language_info": {
   "codemirror_mode": {
    "name": "ipython",
    "version": 3
   },
   "file_extension": ".py",
   "mimetype": "text/x-python",
   "name": "python",
   "nbconvert_exporter": "python",
   "pygments_lexer": "ipython3",
   "version": "3.8.8"
  },
  "toc-autonumbering": true
 },
 "nbformat": 4,
 "nbformat_minor": 5
}
