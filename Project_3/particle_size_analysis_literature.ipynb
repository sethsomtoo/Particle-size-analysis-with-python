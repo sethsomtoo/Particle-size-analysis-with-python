{
 "cells": [
  {
   "cell_type": "markdown",
   "metadata": {},
   "source": [
    "**Table Contents**\n",
    "\n",
    "1. [Introduction](#Introduction)\n",
    "\n",
    "    1.1 [Important properties of particles to measure](#Important-properties-of-particles-to-measure)\n",
    "    \n",
    "2. [Particle sizes and how they are defined](#Particle-sizes-and-how-they-are-defined)\n",
    "3. [Particle size data Presentation and Interpretation](#Particle-size-data-Presentation-and-Interpretation)\n",
    "\n",
    "    3.1. [Tabular presentation of particle sizes](#Tabular-presentation-of-particle-sizes)\n",
    "    \n",
    "    3.2. [Graphical representation of particle size data](#Graphical-representation-of-particle-size-data)\n",
    "    \n",
    "    3.3. [Distribution statistics](#Distribution-statistics)\n",
    "    \n",
    "    3.3.1. [Means](#Means)\n",
    "    \n",
    "    3.3.2. [Quantiles](#Quantiles)"
   ]
  },
  {
   "cell_type": "markdown",
   "metadata": {},
   "source": [
    "<a id='Introduction'></a>\n",
    "# Introduction"
   ]
  },
  {
   "cell_type": "markdown",
   "metadata": {},
   "source": [
    "According to Wikipedia[3]; \"a particle is a small localized object of a substance to which can be ascribed several physical or chemical properties such as density, mass, volume\". In industry, when talking about particles, we can think about very small portions of solid substances, liquid droplets, gas bubbles with physical dimensions ranging from sub-nanometer to several millimeters in size[4]. The most common types of substances consisting of particles are[4]: \n",
    "1. Powders and granules e.g pigments in coatings, cement, dust e.t.c.\n",
    "2. Suspensions, emulsions and slurries e.g mining muds.\n",
    "3. Aerosols and sprays."
   ]
  },
  {
   "cell_type": "markdown",
   "metadata": {},
   "source": [
    "<a id='Important-properties-of-particles-to-measure'></a>\n",
    "## Important properties of particles to measure"
   ]
  },
  {
   "cell_type": "markdown",
   "metadata": {},
   "source": [
    "Analysing particles of solid substances gives a better understanding of the physical properties associated with such substance. Properties such as flowability, dissolution rate, ease of agglomeration and dispersion in fluids, sedimentation velocity, abrasivity and compressibility e.t.c, can be controlled from an understanding of the size analysis of the solid sample[2]. Some of the most important pyhsical properties to measure include[4]:\n",
    "1. Particle size\n",
    "2. Particle shape \n",
    "3. Surface properties\n",
    "4. Charge properties (electrostatic interactions) \n",
    "5. Microstructure\n",
    "\n",
    "These importance of some or all of these properties will depend on the substance of interest. In the industry, particle properties are important to measure because they can help improve the quality of products for example in the food processing industry or help in improving processes, for example in the mining industry through particle size reduction. In particle properties measurement, the method of measurement is just as important as the results obtained as there are no existing unique values. Hence, the measured size distribution data for example, is method dependent[5]. According to Wiki[1], the way to best select the method to use in measurement is to ensure that the technique best suit the application it is intended for. For example, a sedimentation bed or a centrifugal system would normally use a sedimentation technique and where not possible, another technique may be used. This write up[6] points to a database of expert systems to help with the choice of technique."
   ]
  },
  {
   "cell_type": "markdown",
   "metadata": {},
   "source": [
    "<a id='Particle-sizes-and-how-they-are-defined'></a>\n",
    "# Particle sizes and how they are defined"
   ]
  },
  {
   "cell_type": "markdown",
   "metadata": {},
   "source": [
    "Particles of substances can come in different shapes, for example, regular shapes such as spheres, cubes, tetrahedras e.t.c or can also be irregular. Perfect spheres can regular shapes such as cubes can have their sizes defined by one dimension such as radius or diameter. But, for some regular shapes like a cone, more than one dimensions must be specified[5]. The concept of \"equivalent spherical diameters\" can then be used to simplify the measurement process[4]. The equivalent spherical diameter is simply the diameter of that equivalent sphere that has the same property as the actual particle under consideration[4]. For example, a cube of 1 cm; its volume will be $1\\, cm^3$, the diameter of a sphere having thesame volume as the volume of the cube is $d_{v}$ and is given below[5]: \n",
    "\n",
    "$$ V = \\dfrac{\\pi}{6}d_{v}^3  \\qquad and \\qquad d_{v}^3 = \\left(\\dfrac{6}{\\pi}\\right)^{1/3} = 1.241 $$\n",
    "\n",
    "Similarly, the specific surface area, SSA of the cube $S = 6 \\,cm^2$. Thus, the diameter of a sphere having the same surface area as the cube $d_{s}$ is as follows[5]:\n",
    "\n",
    "$$ S = \\pi d_{s}^2 \\qquad and \\qquad d_{s} =  \\left(\\dfrac{6}{\\pi}\\right)^{1/2} = 1.382 $$\n",
    "\n",
    "The surface to volume ratio can also be defined as it controls the rate at which particles interacts with the sorrounding[5]. This is given as follows:\n",
    "\n",
    "$$ S_{v} = \\dfrac{S}{V} = \\dfrac{\\pi d_{s}^2}{\\frac{\\pi}{6}d_{v}^3} = 6\\dfrac{d_{s}^2}{d_{v}^3} = \\dfrac{6}{d_{sv}} $$\n",
    "\n",
    "The concept of equivalent sphere diameter is best applicable to regular shapes[4]. For irregular shapes such as needles or plates or rods where the size in one dimension can differ considerably from the size of the other dimensions, the concept of equivalent sphere diameter becomes increasingly difficult to apply. Other definitions can be found in the image below: "
   ]
  },
  {
   "cell_type": "markdown",
   "metadata": {},
   "source": [
    "| <div> <img src=\"illustration_of_particle_size_definitions.jpg\" alt=\"Drawing\" style=\"width: 400px;\"/></div> |\n",
    "|:--:|\n",
    "| <b> Fig.1 - Illustration of particle size definitions[4] </b>|\n"
   ]
  },
  {
   "cell_type": "markdown",
   "metadata": {},
   "source": [
    "Some paricle diameter definitions available and their meanings are summarized in the table below:"
   ]
  },
  {
   "cell_type": "markdown",
   "metadata": {},
   "source": [
    "| <div> <img src=\"particle_size_definitions.jpg\" alt=\"Drawing\" style=\"width: 420px;\"/></div> |\n",
    "|:--:|\n",
    "| <b> Table 1 - Particle diameter definitions[5] </b>|"
   ]
  },
  {
   "cell_type": "markdown",
   "metadata": {},
   "source": [
    "As mentioned earlier, the method to select for meaasuring the particle sizes will depend on the application. Hence, great care has to be taken when choosing the appropriate sizing technique for your application. "
   ]
  },
  {
   "cell_type": "markdown",
   "metadata": {},
   "source": [
    "<a id='Particle-size-data-Presentation-and-Interpretation'></a>\n",
    "# Particle size data Presentation and Interpretation"
   ]
  },
  {
   "cell_type": "markdown",
   "metadata": {},
   "source": [
    "Particle size data can be presented in tables and graphically through distrbutions. However, a graphical method is the most preferred method because large particle datasets can be quickly viewed and analysed easily hence, the most preferred method of particle size presentation. One thing to note is the quantity type for the representation which usually depend on the type of measurement method employed in the determination of the particle sizes. The table below, shows the typically used quantity types:"
   ]
  },
  {
   "cell_type": "markdown",
   "metadata": {},
   "source": [
    "| Index notation | Quantity type ($Q_{r}$, $q_{r}$)  | Distribution | Note |\n",
    "| :----: | :----: | :----: | :----: |\n",
    "| r = 0 | Number | $Q_{0}$, $q_{0}$ | Very common |\n",
    "| r = 1 | Length | $Q_{1}$, $q_{1}$ | Very rare |\n",
    "| r = 2 | Area  | $Q_{2}$, $q_{2}$ | Common |\n",
    "| r = 3 | Mass/Volume  | $Q_{3}$, $q_{3}$ | Very common |\n",
    "|**Table 2: Particle size values** ||||"
   ]
  },
  {
   "cell_type": "markdown",
   "metadata": {},
   "source": [
    "As can be seen in the table above, very commonly, the particle sizes data is presented as \"number\" and \"mass/volume\". More of this will be explained later. "
   ]
  },
  {
   "cell_type": "markdown",
   "metadata": {},
   "source": [
    "<a id='Tabular presentation of particle size data'></a>\n",
    "## Tabular presentation of particle sizes"
   ]
  },
  {
   "cell_type": "markdown",
   "metadata": {},
   "source": [
    "\n",
    "| <div> <img src=\"example of particle size data in volume and surface.jpg\" alt=\"Drawing\" style=\"width: 420px;\"/></div> |\n",
    "|:--:|\n",
    "| <b> Table 3 - Example of Tabular presentation of size distribution with quantity in mass and surface area[2] </b>|\n"
   ]
  },
  {
   "cell_type": "markdown",
   "metadata": {},
   "source": [
    "As can be seen in table 3 above, the quantity values are given in counts (r = 0), total surface area (r = 2), and mass (r = 3). These are the three most common ways of presenting particle size measurements for analysis. The table above also shows are the three values are related to each other by multiplying the number quantity $n_{i}$ by $D_{i}^2$ and $D_{i}^3$ to get the total surface values and total mass values in a class respectively. "
   ]
  },
  {
   "cell_type": "markdown",
   "metadata": {},
   "source": [
    "<a id = 'Graphical representation of particle size data' ></a>\n",
    "## Graphical representation of particle size data"
   ]
  },
  {
   "cell_type": "markdown",
   "metadata": {},
   "source": [
    "As mentioned earlier, tabular representatation of particle size data is not productive as compared to visualization with the aid of plots. Hence, particle size data are mainly presented with distribution plots as this helps appreciate the data interpretation more. The main plots used are:- Histograms, cumulative distribution curves(undersize or oversize) and\n",
    "frequency distribution curves. More frequently used is the cumulative distribution(undersize) and the frequency distribution curves[2]. Also, as indicated earlier, the distributions of particle sizes can come in varied values depending on the method of measurement. Some of them include:-\n",
    "\n",
    "**Number weigtht distribution**  \n",
    "This is when the quantity distribution of particles is given as the counts of particles in a particular size class as seen from table 3 above. For example, a counting technique such as image analyis gives equal weighting to each particle irrespective of the size of the particles. This is nice when knowing the amount of particles is necessary or a high resolution of particle measurement is the goal[4]. The index here notation is r = 0 and distribution is $Q_{0}, q_{0}$\n",
    "\n",
    "**Volume weighted distribution**  \n",
    "This is popular in static light scattering methods such as laser diffraction. The results from here is given in volume and can be related to the mass if the density is constant. The quantity distribution is denoted as $Q_{3}, q_{3}$\n",
    "\n",
    "\n",
    "**Intensity weighted distribution**\n",
    "This kind of distribution is mainly obtained from dynamic light scattering techniques. The quantity distribution is presented in terms of the intensity of light scattered by the particles[4]. The quantity distribution for fine particles is denoted as $Q_{6}, q_{6}$\n",
    "\n",
    "It is important to note that the results of the distribution obtained may not be the same when comparing the techniques used in maeasuring and presenting the particle sizes as shown in the figure below:"
   ]
  },
  {
   "cell_type": "markdown",
   "metadata": {},
   "source": [
    "| <div> <img src=\"diff particle size distributions.jpg\" alt=\"Drawing\" style=\"width: 450px;\"/></div> |\n",
    "|:--:|\n",
    "| <b> Table 4 - Example of number, volume and intensity weighted distributions for the same sample[4] </b>|"
   ]
  },
  {
   "cell_type": "markdown",
   "metadata": {},
   "source": [
    "From the figure above, it can be seen that for two types of particles of diameters 5 nm and 50 nm in a sample, the weight distribution gives equal weighting to both kind of particles whereas the volume distribution and intensity distributions place more emphasis on the coarse particles with the Intensity distribution depicting a stronger signal up to 1,000,000 times for the coarse particles. This is because, the more coarse particles will absorb stronger intensities of light. Also, it is possible to convert from one distribution value to the other, but this require some assumptions to be made with respect to the form and physical properties associated with the sample[4]. For example, to convert from mass quantity distribution to volume, the density of the sample has to be uniform. "
   ]
  },
  {
   "cell_type": "markdown",
   "metadata": {},
   "source": [
    "<a id = 'Distribution statistics' ></a>\n",
    "## Distribution statistics "
   ]
  },
  {
   "cell_type": "markdown",
   "metadata": {},
   "source": [
    "In order to ease the interpretation of particle size data, there are a range of statistical parameters that can be used. These statistical paramters are particularly useful when comparing different particle samples. The kind of statistical measure to choose will depend on the usage of the data and what it wll be compared with[4]. Some of the statistical measures include:\n",
    "\n",
    "**Mean** :- The mean is the average size of a sample.\n",
    "\n",
    "**Median** :- This effectively divides the particle size distribution into two parts. It is known as the size where 50 % of the size is below or above\n",
    "\n",
    "**Mode** :- This is the most occuring size in the sample distribution. In the freaquency distribution curve, it is marked by the maximum of the curve. It is possible for more than one density to be present in a frequency distribution curve. The curve can be termed as multi-modal, i.e Bi-modal, tri-modal e.t.c.[4] "
   ]
  },
  {
   "cell_type": "markdown",
   "metadata": {},
   "source": [
    "| <div> <img src=\"example of measures of central tendency.jpg\" alt=\"Drawing\" style=\"width: 450px;\"/></div> |\n",
    "|:--:|\n",
    "| <b> Table 4 - Measures of central tendency definitions[5] </b>|"
   ]
  },
  {
   "cell_type": "markdown",
   "metadata": {},
   "source": [
    "<a id = 'Means'></a>\n",
    "### Means "
   ]
  },
  {
   "cell_type": "markdown",
   "metadata": {},
   "source": [
    "This is very useful in presenting a group on individual particles in a very concise manner. There are several means available depending on the data collected and the measurement technique. The three most common of them are as follows:[4]\n",
    "\n",
    "**Number length mean**: This is often interesting for particle counting applications such as in oil-cleaniness where the amount of particles is important. It is therefore necessary for the total number of particles to be known for this to be applicable.[4]\n",
    "\n",
    "**Surface area mean**: This is also known as the sauter mean diameter is typically interesting for cases where surface area is important. Example: reactivity, dissolution, fluidized beds e.t.c. This system measures the presence of fine particles very well.[4]\n",
    "\n",
    "**Volume moment mean**: This measures larger particles very well and it is common for most particles as it shows the size of those partiicles that constitutes the bulk of the sample[4]. "
   ]
  },
  {
   "cell_type": "markdown",
   "metadata": {},
   "source": [
    "<a id = \"Quantiles\"></a>\n",
    "### Quantiles "
   ]
  },
  {
   "cell_type": "markdown",
   "metadata": {},
   "source": [
    "Quantiles also known as Percentiles are values that can be read off form the distribution curves. The first quantile is the median which is $D_{50}$. This represents the maximum particle diamter in which 50 percent of the particles sizes either fall under or above. Other quantiles typically used are $D_{10}$, $D_{90}$ and are simply the particle diameter at 10 % quantity and 90 % quantity respectively[2]. This is illustrated in the figure below:"
   ]
  },
  {
   "cell_type": "markdown",
   "metadata": {},
   "source": [
    "| <div> <img src=\"quantiles.jpg\" alt=\"Drawing\" style=\"width: 450px;\"/></div> |\n",
    "|:--:|\n",
    "| <b> Table 4 - Particle size distribution and qunatiles[4] </b>|"
   ]
  },
  {
   "cell_type": "markdown",
   "metadata": {},
   "source": [
    "## Sources"
   ]
  },
  {
   "cell_type": "markdown",
   "metadata": {},
   "source": [
    "1. https://en.wikipedia.org/wiki/Particle_size_analysis\n",
    "2. RHODES, M. J., 2008. Introduction to particle technology. 2nd ed. Chichester, England, Hoboken, NJ: Wiley. ISBN 1118681541 \n",
    "3. Wikipedia contributors. (2021, December 1). Particle. In Wikipedia, The Free Encyclopedia. Retrieved 07:25, February 9, 2022, from https://en.wikipedia.org/w/index.php?title=Particle&oldid=1058091868\n",
    "4. https://www.cif.iastate.edu/sites/default/files/uploads/Other_Inst/Particle%20Size/Particle%20Characterization%20Guide.pdf\n",
    "5. Allen, T. (2003). Powder sampling and particle size determination. Elsevier.\n",
    "6. https://www.particles.org.uk/expert/index.htm"
   ]
  }
 ],
 "metadata": {
  "interpreter": {
   "hash": "7f2315f694e152c29e344141d749526cdfb5be5cc5e5949ea65827205c8677e7"
  },
  "kernelspec": {
   "display_name": "Python 3",
   "language": "python",
   "name": "python3"
  },
  "language_info": {
   "codemirror_mode": {
    "name": "ipython",
    "version": 3
   },
   "file_extension": ".py",
   "mimetype": "text/x-python",
   "name": "python",
   "nbconvert_exporter": "python",
   "pygments_lexer": "ipython3",
   "version": "3.8.8"
  },
  "toc-autonumbering": true,
  "toc-showcode": false,
  "toc-showmarkdowntxt": false,
  "toc-showtags": true
 },
 "nbformat": 4,
 "nbformat_minor": 4
}
