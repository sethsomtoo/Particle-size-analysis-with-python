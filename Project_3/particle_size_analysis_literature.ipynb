{
 "cells": [
  {
   "cell_type": "markdown",
   "metadata": {},
   "source": [
    "**Table Contents**\n",
    "\n",
    "1. [Introduction](#Introduction)\n",
    "\n",
    "    1.1 [Important properties of particles to measure](#Important-properties-of-particles-to-measure)\n",
    "    \n",
    "2. [Particle sizes and how they are defined](#Particle-sizes-and-how-they-are-defined)\n",
    "3. [Particle size data Presentation and Interpretation](#Particle-size-data-Presentation-and-Interpretation)\n",
    "\n",
    "    3.1. [Tabular presentation of particle sizes](#Tabular-presentation-of-particle-sizes)\n",
    "    \n",
    "    3.2. [Graphical representation of particle size data](#Graphical-representation-of-particle-size-data)\n",
    "    \n",
    "    3.3. [Distribution statistics](#Distribution-statistics)\n",
    "    \n",
    "    3.3.1. [Means](#Means)\n",
    "    \n",
    "    3.3.2. [Quantiles](#Quantiles)"
   ]
  },
  {
   "cell_type": "markdown",
   "metadata": {},
   "source": [
    "<a id='Introduction'></a>\n",
    "# Introduction"
   ]
  },
  {
   "cell_type": "markdown",
   "metadata": {},
   "source": [
    "According to Wikipedia[3]; \"a particle is a small localized object of a substance to which can be ascribed several physical or chemical properties such as density, mass, volume\". In industry, when talking about particles, we can think about very small portions of solid substances, liquid droplets, gas bubbles with physical dimensions ranging from sub-nanometer to several millimeters in size[4]. The most common types of substances consisting of particles are[4]: \n",
    "1. Powders and granules e.g pigments in coatings, cement, dust e.t.c.\n",
    "2. Suspensions, emulsions and slurries e.g mining muds.\n",
    "3. Aerosols and sprays."
   ]
  },
  {
   "cell_type": "markdown",
   "metadata": {},
   "source": [
    "<a id='Important-properties-of-particles-to-measure'></a>\n",
    "## Important properties of particles to measure"
   ]
  },
  {
   "cell_type": "markdown",
   "metadata": {},
   "source": [
    "Analysing particles of solid substances gives a better understanding of the physical properties associated with such substance. Properties such as flowability, dissolution rate, ease of agglomeration and dispersion in fluids, sedimentation velocity, abrasivity and compressibility e.t.c, can be controlled from an understanding of the size analysis of the solid sample[2]. Some of the most important pyhsical properties to measure include[4]:\n",
    "1. Particle size\n",
    "2. Particle shape \n",
    "3. Surface properties\n",
    "4. Charge properties (electrostatic interactions) \n",
    "5. Microstructure\n",
    "\n",
    "These importance of some or all of these properties will depend on the substance of interest. In the industry, particle properties are important to measure because they can help improve the quality of products for example in the food processing industry or help in improving processes, for example in the mining industry through particle size reduction. In particle properties measurement, the method of measurement is just as important as the results obtained as there are no existing unique values. Hence, the measured size distribution data for example, is method dependent[5]. According to Wiki[1], the way to best select the method to use in measurement is to ensure that the technique best suit the application it is intended for. For example, a sedimentation bed or a centrifugal system would normally use a sedimentation technique and where not possible, another technique may be used. This write up[6] points to a database of expert systems to help with the choice of technique."
   ]
  },
  {
   "cell_type": "markdown",
   "metadata": {},
   "source": [
    "<a id='Particle-sizes-and-how-they-are-defined'></a>\n",
    "# Particle sizes and how they are defined"
   ]
  },
  {
   "cell_type": "markdown",
   "metadata": {},
   "source": [
    "Particles of substances can come in different shapes, for example, regular shapes such as spheres, cubes, tetrahedras e.t.c or can also be irregular. Perfect spheres can regular shapes such as cubes can have their sizes defined by one dimension such as radius or diameter. But, for some regular shapes like a cone, more than one dimensions must be specified[5]. The concept of \"equivalent spherical diameters\" can then be used to simplify the measurement process[4]. The equivalent spherical diameter is simply the diameter of that equivalent sphere that has the same property as the actual particle under consideration[4]. For example, a cube of 1 cm; its volume will be $1\\, cm^3$, the diameter of a sphere having thesame volume as the volume of the cube is $d_{v}$ and is given below[5]: \n",
    "\n",
    "$$ V = \\dfrac{\\pi}{6}d_{v}^3  \\qquad and \\qquad d_{v}^3 = \\left(\\dfrac{6}{\\pi}\\right)^{1/3} = 1.241 $$\n",
    "\n",
    "Similarly, the specific surface area, SSA of the cube $S = 6 \\,cm^2$. Thus, the diameter of a sphere having the same surface area as the cube $d_{s}$ is as follows[5]:\n",
    "\n",
    "$$ S = \\pi d_{s}^2 \\qquad and \\qquad d_{s} =  \\left(\\dfrac{6}{\\pi}\\right)^{1/2} = 1.382 $$\n",
    "\n",
    "The surface to volume ratio can also be defined as it controls the rate at which particles interacts with the sorrounding[5]. This is given as follows:\n",
    "\n",
    "$$ S_{v} = \\dfrac{S}{V} = \\dfrac{\\pi d_{s}^2}{\\frac{\\pi}{6}d_{v}^3} = 6\\dfrac{d_{s}^2}{d_{v}^3} = \\dfrac{6}{d_{sv}} $$\n",
    "\n",
    "The concept of equivalent sphere diameter is best applicable to regular shapes[4]. For irregular shapes such as needles or plates or rods where the size in one dimension can differ considerably from the size of the other dimensions, the concept of equivalent sphere diameter becomes increasingly difficult to apply. Other definitions can be found in the image below: "
   ]
  },
  {
   "cell_type": "markdown",
   "metadata": {},
   "source": [
    "| <div> <img src=\"illustration_of_particle_size_definitions.jpg\" alt=\"Drawing\" style=\"width: 400px;\"/></div> |\n",
    "|:--:|\n",
    "| <b> Fig.1 - Illustration of particle size definitions[4] </b>|\n"
   ]
  },
  {
   "cell_type": "markdown",
   "metadata": {},
   "source": [
    "Some paricle diameter definitions available and their meanings are summarized in the table below:"
   ]
  },
  {
   "cell_type": "markdown",
   "metadata": {},
   "source": [
    "| <div> <img src=\"particle_size_definitions.jpg\" alt=\"Drawing\" style=\"width: 420px;\"/></div> |\n",
    "|:--:|\n",
    "| <b> Table 1 - Particle diameter definitions[5] </b>|"
   ]
  },
  {
   "cell_type": "markdown",
   "metadata": {},
   "source": [
    "As mentioned earlier, the method to select for meaasuring the particle sizes will depend on the application. Hence, great care has to be taken when choosing the appropriate sizing technique for your application. "
   ]
  },
  {
   "cell_type": "markdown",
   "metadata": {},
   "source": [
    "<a id='Particle-size-data-Presentation-and-Interpretation'></a>\n",
    "# Particle size data Presentation and Interpretation"
   ]
  },
  {
   "cell_type": "markdown",
   "metadata": {},
   "source": [
    "Particle size data can be presented in tables and graphically through distrbutions. However, a graphical method is the most preferred method because large particle datasets can be quickly viewed and analysed easily hence, the most preferred method of particle size presentation. One thing to note is the quantity type for the representation which usually depend on the type of measurement method employed in the determination of the particle sizes. The table below, shows the typically used quantity types:"
   ]
  },
  {
   "cell_type": "markdown",
   "metadata": {},
   "source": [
    "| Index notation | Quantity type ($Q_{r}$, $q_{r}$)  | Distribution | Note |\n",
    "| :----: | :----: | :----: | :----: |\n",
    "| r = 0 | Number | $Q_{0}$, $q_{0}$ | Very common |\n",
    "| r = 1 | Length | $Q_{1}$, $q_{1}$ | Very rare |\n",
    "| r = 2 | Area  | $Q_{2}$, $q_{2}$ | Common |\n",
    "| r = 3 | Mass/Volume  | $Q_{3}$, $q_{3}$ | Very common |\n",
    "|**Table 2: Particle size values** ||||"
   ]
  },
  {
   "cell_type": "markdown",
   "metadata": {},
   "source": [
    "As can be seen in the table above, very commonly, the particle sizes data is presented as \"number\" and \"mass/volume\". More of this will be explained later. "
   ]
  },
  {
   "cell_type": "markdown",
   "metadata": {},
   "source": [
    "<a id='Tabular presentation of particle size data'></a>\n",
    "## Tabular presentation of particle sizes"
   ]
  },
  {
   "cell_type": "markdown",
   "metadata": {},
   "source": [
    "Some examples of tabular representation of particle sizes in varied values are shown below:- \n",
    "\n",
    "| <div> <img src=\"example_of_particle_size_data_counts.jpg\" alt=\"Drawing\" style=\"width: 420px;\"/></div> |\n",
    "|:--:|\n",
    "| <b> Table 3 - Example of Tabular presentation of size distribution with quantity in counts[2] </b>|\n",
    "\n",
    "Since particle sizes, usually are not mono-dispersed i.e \n",
    "\n",
    "\n",
    "| <div> <img src=\"example of particle size data in volume and surface.jpg\" alt=\"Drawing\" style=\"width: 420px;\"/></div> |\n",
    "|:--:|\n",
    "| <b> Table 4 - Example of Tabular presentation of size distribution with quantity in mass and surface area[2] </b>|\n"
   ]
  },
  {
   "cell_type": "markdown",
   "metadata": {},
   "source": [
    "<a id = 'Graphical representation of particle size data' ></a>\n",
    "## Graphical representation of particle size data"
   ]
  },
  {
   "cell_type": "markdown",
   "metadata": {},
   "source": [
    "As mentioned earlier, tabular representatation of particle size data is not productive as compared to visualization with the aid of plots. Hence, particle size data are mainly presented with distribution plots. The main plots used are:- Histograms, cumulative distribution curves(undersize or oversize) and\n",
    "frequency distribution curves. More frequently used is the cumulative distribution(undersize) and the frequency distribution curves[2]. Also, as indicated earlier, the distributions of particle sizes can come in varied values depending on the method of measurement. Some of them include:-\n",
    "\n",
    "**Number weigtht distribution**  \n",
    "This is when the quantity distribution of particles is given as the counts of particles in a particular size class as seen from table 3 above. For example, a counting technique such as image analyis gives equal weighting to each particle irrespective of the size of the particles. This is nice when knowing the amount of particles is necessary or a high resolution of particle measurement is the goal[4]. The index here notation is r = 0 and distribution is $Q_{0}, q_{0}$\n",
    "\n",
    "**Volume weighted distribution**  \n",
    "This is popular in static light scattering methods such as laser diffraction. The results from here is given in volume and can be related to the mass if the density is constant. The quantity distribution is denoted as $Q_{3}, q_{3}$\n",
    "\n",
    "\n",
    "**Intensity weighted distribution**\n",
    "This kind of distribution is mainly obtained from dynamic light scattering techniques. The quantity distribution is presented in terms of the intensity of light scattered by the particles[4]. The quantity distribution for fine particles is denoted as $Q_{6}, q_{6}$\n",
    "\n",
    "It is important to note that the results of the distribution obtained may not be the same when comparing the techniques used in maeasuring and presenting the particle sizes as shown in the figure below:"
   ]
  },
  {
   "cell_type": "markdown",
   "metadata": {},
   "source": [
    "| <div> <img src=\"diff particle size distributions.jpg\" alt=\"Drawing\" style=\"width: 450px;\"/></div> |\n",
    "|:--:|\n",
    "| <b> Table 4 - Example of number, volume and intensity weighted distributions for the same sample[4] </b>|"
   ]
  },
  {
   "cell_type": "markdown",
   "metadata": {},
   "source": [
    "From the figure above, it can be seen that for two types of particles of diameters 5 nm and 50 nm in a sample, the weight distribution gives equal weighting to both kind of particles whereas the volume distribution and intensity distributions place more emphasis on the coarse particles with the Intensity distribution depicting a stronger signal up to 1,000,000 times for the coarse particles. This is because, the more coarse particles will absorb stronger intensities of light. Also, it is possible to convert from one distribution value to the other, but this require some assumptions to be made with respect to the form and physical properties associated with the sample[4]."
   ]
  },
  {
   "cell_type": "markdown",
   "metadata": {},
   "source": [
    "<a id = 'Distribution statistics' ></a>\n",
    "## Distribution statistics "
   ]
  },
  {
   "cell_type": "markdown",
   "metadata": {},
   "source": [
    "In order to ease the interpretation of particle size data, there are a range of statistical parameters that can be used. These statistical paramters are particularly useful when comparing different particle samples. The kind of statistical measure to choose will depend on the usage of the data and what it wll be compared with[4]. Some of the statistical measures include:\n",
    "\n",
    "**Mean** :- The mean is the average size of a sample.\n",
    "\n",
    "**Median** :- This effectively divides the particle size distribution into two parts. It is known as the size where 50 % of the size is below or above\n",
    "\n",
    "**Mode** :- This is the most occuring size in the sample distribution. In the freaquency distribution curve, it is marked by the maximum of the curve. It is possible for more than one density to be present in a frequency distribution curve. The curve can be termed as multi-modal, i.e Bi-modal, tri-modal e.t.c.[4] "
   ]
  },
  {
   "cell_type": "markdown",
   "metadata": {},
   "source": [
    "| <div> <img src=\"example of measures of central tendency.jpg\" alt=\"Drawing\" style=\"width: 450px;\"/></div> |\n",
    "|:--:|\n",
    "| <b> Table 4 - Measures of central tendency definitions[5] </b>|"
   ]
  },
  {
   "cell_type": "markdown",
   "metadata": {},
   "source": [
    "<a id = 'Means'></a>\n",
    "### Means "
   ]
  },
  {
   "cell_type": "markdown",
   "metadata": {},
   "source": [
    "This is very useful in presenting a group on individual particles in a very concise manner. There are several means available depending on the data collected and the measurement technique. The three most common of them are as follows:[4]\n",
    "\n",
    "**Number length mean**: This is often interesting for particle counting applications such as in oil-cleaniness where the amount of particles is important. It is therefore necessary for the total number of particles to be known for this to be applicable.[4]\n",
    "\n",
    "**Surface area mean**: This is also known as the sauter mean diameter is typically interesting for cases where surface area is important. Example: reactivity, dissolution, fluidized beds e.t.c. This system measures the presence of fine particles very well.[4]\n",
    "\n",
    "**Volume moment mean**: This measures larger particles very well and it is common for most particles as it shows the size of those partiicles that constitutes the bulk of the sample[4]. "
   ]
  },
  {
   "cell_type": "markdown",
   "metadata": {},
   "source": [
    "<a id = \"Quantiles\"></a>\n",
    "### Quantiles "
   ]
  },
  {
   "cell_type": "markdown",
   "metadata": {},
   "source": [
    "Quantiles also known as Percentiles are values that can be read off form the distribution curves. The first quantile is the median which is $D_{50}$. This represents the maximum particle diamter in which 50 percent of the particles sizes either fall under or above. Other quantiles typically used are $D_{10}$, $D_{90}$ and are simply the particle diameter at 10 % quantity and 90 % quantity respectively[2]. This is illustrated in the figure below:"
   ]
  },
  {
   "cell_type": "markdown",
   "metadata": {},
   "source": [
    "| <div> <img src=\"quantiles.jpg\" alt=\"Drawing\" style=\"width: 450px;\"/></div> |\n",
    "|:--:|\n",
    "| <b> Table 4 - Particle size distribution and qunatiles[4] </b>|"
   ]
  },
  {
   "cell_type": "markdown",
   "metadata": {},
   "source": [
    "The above data is an example data from a sieve analysis. The sieve is arranged here from bottom to top. In order to ensure a good representation of the distribution plot, an imaginary value for the mesh size was assumed at the very top but of course there is nothing collected here as everything falls through this sieve. This will be shown later. The mass here represents the mass of particles in grams collected on each sieve. It is important to note that here, the mass was given but it can also be given as \"quantity by percent\", \"volume\" or the \"surface area\" in each sieve. However, it is common to represent the sizes collected as a mass or quantity in percentage. With this data, an histogram showing the size distribution can then be plotted. \n"
   ]
  },
  {
   "cell_type": "markdown",
   "metadata": {},
   "source": []
  },
  {
   "cell_type": "markdown",
   "metadata": {},
   "source": [
    "## Plot the cumulative distribution"
   ]
  },
  {
   "cell_type": "markdown",
   "metadata": {},
   "source": [
    "A cumulative distribution curve offers a more useful way to visualize and analyse the results. This is because it offers more precision and eliminates the imprecision from having to look at particles sizes over wide width of size classes as shown in the histogram plot. The cumulative distribution can be visualized in two ways - 1. From the small sizes up to the bigger particles. For example, in a sieve analysis, this would be from the top of the sieve down to the bottom as we have here in this example. 2. It can also be viewed from the big sizes down to the smaller sizes.\n",
    "A plot of both ways should normally intersect at a point which will be the median which is 50 %  of all the value set in the analysis. Both plots yield thesame results for interpretation. \n"
   ]
  },
  {
   "cell_type": "code",
   "execution_count": 5,
   "metadata": {},
   "outputs": [
    {
     "data": {
      "text/html": [
       "<div>\n",
       "<style scoped>\n",
       "    .dataframe tbody tr th:only-of-type {\n",
       "        vertical-align: middle;\n",
       "    }\n",
       "\n",
       "    .dataframe tbody tr th {\n",
       "        vertical-align: top;\n",
       "    }\n",
       "\n",
       "    .dataframe thead th {\n",
       "        text-align: right;\n",
       "    }\n",
       "</style>\n",
       "<table border=\"1\" class=\"dataframe\">\n",
       "  <thead>\n",
       "    <tr style=\"text-align: right;\">\n",
       "      <th></th>\n",
       "      <th>Mesh_size(μm)</th>\n",
       "      <th>Mass(g)</th>\n",
       "    </tr>\n",
       "  </thead>\n",
       "  <tbody>\n",
       "    <tr>\n",
       "      <th>0</th>\n",
       "      <td>0</td>\n",
       "      <td>1.10</td>\n",
       "    </tr>\n",
       "    <tr>\n",
       "      <th>1</th>\n",
       "      <td>45</td>\n",
       "      <td>1.90</td>\n",
       "    </tr>\n",
       "    <tr>\n",
       "      <th>2</th>\n",
       "      <td>63</td>\n",
       "      <td>5.25</td>\n",
       "    </tr>\n",
       "    <tr>\n",
       "      <th>3</th>\n",
       "      <td>90</td>\n",
       "      <td>7.50</td>\n",
       "    </tr>\n",
       "    <tr>\n",
       "      <th>4</th>\n",
       "      <td>125</td>\n",
       "      <td>21.80</td>\n",
       "    </tr>\n",
       "    <tr>\n",
       "      <th>5</th>\n",
       "      <td>180</td>\n",
       "      <td>37.50</td>\n",
       "    </tr>\n",
       "    <tr>\n",
       "      <th>6</th>\n",
       "      <td>250</td>\n",
       "      <td>37.50</td>\n",
       "    </tr>\n",
       "    <tr>\n",
       "      <th>7</th>\n",
       "      <td>355</td>\n",
       "      <td>97.00</td>\n",
       "    </tr>\n",
       "    <tr>\n",
       "      <th>8</th>\n",
       "      <td>500</td>\n",
       "      <td>90.00</td>\n",
       "    </tr>\n",
       "    <tr>\n",
       "      <th>9</th>\n",
       "      <td>710</td>\n",
       "      <td>112.50</td>\n",
       "    </tr>\n",
       "    <tr>\n",
       "      <th>10</th>\n",
       "      <td>1000</td>\n",
       "      <td>285.00</td>\n",
       "    </tr>\n",
       "    <tr>\n",
       "      <th>11</th>\n",
       "      <td>1400</td>\n",
       "      <td>52.50</td>\n",
       "    </tr>\n",
       "    <tr>\n",
       "      <th>12</th>\n",
       "      <td>1800</td>\n",
       "      <td>NaN</td>\n",
       "    </tr>\n",
       "  </tbody>\n",
       "</table>\n",
       "</div>"
      ],
      "text/plain": [
       "    Mesh_size(μm)  Mass(g)\n",
       "0               0     1.10\n",
       "1              45     1.90\n",
       "2              63     5.25\n",
       "3              90     7.50\n",
       "4             125    21.80\n",
       "5             180    37.50\n",
       "6             250    37.50\n",
       "7             355    97.00\n",
       "8             500    90.00\n",
       "9             710   112.50\n",
       "10           1000   285.00\n",
       "11           1400    52.50\n",
       "12           1800      NaN"
      ]
     },
     "execution_count": 5,
     "metadata": {},
     "output_type": "execute_result"
    }
   ],
   "source": [
    "#To load the dataset again.\n",
    "df_2 = pd.read_excel(r'C:\\Users\\seths\\Downloads\\Particle_Tech\\Homework\\Project_3\\size_data.xlsx')\n",
    "df_2"
   ]
  },
  {
   "cell_type": "code",
   "execution_count": 6,
   "metadata": {},
   "outputs": [
    {
     "data": {
      "text/html": [
       "<div>\n",
       "<style scoped>\n",
       "    .dataframe tbody tr th:only-of-type {\n",
       "        vertical-align: middle;\n",
       "    }\n",
       "\n",
       "    .dataframe tbody tr th {\n",
       "        vertical-align: top;\n",
       "    }\n",
       "\n",
       "    .dataframe thead th {\n",
       "        text-align: right;\n",
       "    }\n",
       "</style>\n",
       "<table border=\"1\" class=\"dataframe\">\n",
       "  <thead>\n",
       "    <tr style=\"text-align: right;\">\n",
       "      <th></th>\n",
       "      <th>Mesh_size(μm)</th>\n",
       "      <th>Mass(g)</th>\n",
       "      <th>Mass_frac</th>\n",
       "      <th>Hold back</th>\n",
       "      <th>Passing</th>\n",
       "    </tr>\n",
       "  </thead>\n",
       "  <tbody>\n",
       "    <tr>\n",
       "      <th>0</th>\n",
       "      <td>0</td>\n",
       "      <td>1.10</td>\n",
       "      <td>0.001</td>\n",
       "      <td>0.001</td>\n",
       "      <td>1.000</td>\n",
       "    </tr>\n",
       "    <tr>\n",
       "      <th>1</th>\n",
       "      <td>45</td>\n",
       "      <td>1.90</td>\n",
       "      <td>0.003</td>\n",
       "      <td>0.004</td>\n",
       "      <td>0.996</td>\n",
       "    </tr>\n",
       "    <tr>\n",
       "      <th>2</th>\n",
       "      <td>63</td>\n",
       "      <td>5.25</td>\n",
       "      <td>0.007</td>\n",
       "      <td>0.011</td>\n",
       "      <td>0.989</td>\n",
       "    </tr>\n",
       "    <tr>\n",
       "      <th>3</th>\n",
       "      <td>90</td>\n",
       "      <td>7.50</td>\n",
       "      <td>0.010</td>\n",
       "      <td>0.021</td>\n",
       "      <td>0.979</td>\n",
       "    </tr>\n",
       "    <tr>\n",
       "      <th>4</th>\n",
       "      <td>125</td>\n",
       "      <td>21.80</td>\n",
       "      <td>0.029</td>\n",
       "      <td>0.050</td>\n",
       "      <td>0.950</td>\n",
       "    </tr>\n",
       "    <tr>\n",
       "      <th>5</th>\n",
       "      <td>180</td>\n",
       "      <td>37.50</td>\n",
       "      <td>0.050</td>\n",
       "      <td>0.100</td>\n",
       "      <td>0.900</td>\n",
       "    </tr>\n",
       "    <tr>\n",
       "      <th>6</th>\n",
       "      <td>250</td>\n",
       "      <td>37.50</td>\n",
       "      <td>0.050</td>\n",
       "      <td>0.150</td>\n",
       "      <td>0.850</td>\n",
       "    </tr>\n",
       "    <tr>\n",
       "      <th>7</th>\n",
       "      <td>355</td>\n",
       "      <td>97.00</td>\n",
       "      <td>0.129</td>\n",
       "      <td>0.279</td>\n",
       "      <td>0.721</td>\n",
       "    </tr>\n",
       "    <tr>\n",
       "      <th>8</th>\n",
       "      <td>500</td>\n",
       "      <td>90.00</td>\n",
       "      <td>0.120</td>\n",
       "      <td>0.399</td>\n",
       "      <td>0.601</td>\n",
       "    </tr>\n",
       "    <tr>\n",
       "      <th>9</th>\n",
       "      <td>710</td>\n",
       "      <td>112.50</td>\n",
       "      <td>0.150</td>\n",
       "      <td>0.549</td>\n",
       "      <td>0.451</td>\n",
       "    </tr>\n",
       "    <tr>\n",
       "      <th>10</th>\n",
       "      <td>1000</td>\n",
       "      <td>285.00</td>\n",
       "      <td>0.380</td>\n",
       "      <td>0.929</td>\n",
       "      <td>0.071</td>\n",
       "    </tr>\n",
       "    <tr>\n",
       "      <th>11</th>\n",
       "      <td>1400</td>\n",
       "      <td>52.50</td>\n",
       "      <td>0.070</td>\n",
       "      <td>0.999</td>\n",
       "      <td>0.001</td>\n",
       "    </tr>\n",
       "    <tr>\n",
       "      <th>12</th>\n",
       "      <td>1800</td>\n",
       "      <td>NaN</td>\n",
       "      <td>NaN</td>\n",
       "      <td>NaN</td>\n",
       "      <td>NaN</td>\n",
       "    </tr>\n",
       "  </tbody>\n",
       "</table>\n",
       "</div>"
      ],
      "text/plain": [
       "    Mesh_size(μm)  Mass(g)  Mass_frac  Hold back  Passing\n",
       "0               0     1.10      0.001      0.001    1.000\n",
       "1              45     1.90      0.003      0.004    0.996\n",
       "2              63     5.25      0.007      0.011    0.989\n",
       "3              90     7.50      0.010      0.021    0.979\n",
       "4             125    21.80      0.029      0.050    0.950\n",
       "5             180    37.50      0.050      0.100    0.900\n",
       "6             250    37.50      0.050      0.150    0.850\n",
       "7             355    97.00      0.129      0.279    0.721\n",
       "8             500    90.00      0.120      0.399    0.601\n",
       "9             710   112.50      0.150      0.549    0.451\n",
       "10           1000   285.00      0.380      0.929    0.071\n",
       "11           1400    52.50      0.070      0.999    0.001\n",
       "12           1800      NaN        NaN        NaN      NaN"
      ]
     },
     "execution_count": 6,
     "metadata": {},
     "output_type": "execute_result"
    }
   ],
   "source": [
    "#Compute the mass_fraction of each intervals and add to the dataframe.\n",
    "df_2['Mass_frac'] = df['Mass(g)'].apply(lambda x: (x / df['Mass(g)'].sum()).round(3) )\n",
    "\n",
    "#Compute the cumulative sum of mass hold back \n",
    "df_2['Hold back'] = df_2['Mass_frac'].cumsum()\n",
    "\n",
    "#compute the cumulative sum of mass passing\n",
    "df_2['Passing'] = np.nan\n",
    "df_2.loc[0,'Passing'] = 1\n",
    "\n",
    "df_2['Passing'] = df_2['Passing'].fillna(1 - df_2['Hold back'])\n",
    "\n",
    "df_2\n"
   ]
  },
  {
   "cell_type": "code",
   "execution_count": 7,
   "metadata": {},
   "outputs": [
    {
     "data": {
      "text/plain": [
       "Text(0.5, -0.05, 'Fig 3: Plot of the cumulative distribution when looking from small to large sizes(Hold back) and also from large to small (Passing)')"
      ]
     },
     "execution_count": 7,
     "metadata": {},
     "output_type": "execute_result"
    },
    {
     "data": {
      "image/png": "[encoded data removed]",
      "text/plain": [
       "<Figure size 432x288 with 1 Axes>"
      ]
     },
     "metadata": {
      "needs_background": "light"
     },
     "output_type": "display_data"
    }
   ],
   "source": [
    "#Generate the plot\n",
    "fig, ax = plt.subplots()\n",
    "ax.plot(df_2['Mesh_size(μm)'], df_2['Hold back'])\n",
    "ax.plot(df_2['Mesh_size(μm)'], df_2['Passing'], 'r')\n",
    "plt.margins(0)\n",
    "\n",
    "plt.legend(['Hold back', 'Passing'])\n",
    "ax.set_xlabel(\"Particle sizes (μm)\")\n",
    "ax.set_ylabel(\"Cumulative sum of mass fractions\")\n",
    "ax.set_title(\"Cumulative distribution\")\n",
    "\n",
    "plt.figtext(0.5,-0.05,\n",
    " s = \"Fig 3: Plot of the cumulative distribution when looking from small to large sizes(Hold back) and also from large to small (Passing)\", \n",
    " wrap=True, horizontalalignment='center')"
   ]
  },
  {
   "cell_type": "markdown",
   "metadata": {},
   "source": [
    "The plot above represents the size distribution of the particles where the value 1.0 represents 100 % of the particle sizes. This offers precise values of quantity of particles by mass as a function of the precise values of particle sizes, thus better precision. We can also plot the curve to get a better fit using a log scale as show in the figure below."
   ]
  },
  {
   "cell_type": "code",
   "execution_count": 9,
   "metadata": {},
   "outputs": [
    {
     "data": {
      "text/plain": [
       "Text(0.5, -0.05, 'Fig 4: Plot of the cumulative distribution with log scale when looking from small to large sizes(Hold back) and also from large to small (Passing)')"
      ]
     },
     "execution_count": 9,
     "metadata": {},
     "output_type": "execute_result"
    },
    {
     "data": {
      "image/png": "[encoded data removed]",
      "text/plain": [
       "<Figure size 432x288 with 1 Axes>"
      ]
     },
     "metadata": {
      "needs_background": "light"
     },
     "output_type": "display_data"
    }
   ],
   "source": [
    "#Generate the plot with log scale \n",
    "fig, ax = plt.subplots()\n",
    "ax.plot(df_2['Mesh_size(μm)'], df_2['Hold back'])\n",
    "ax.plot(df_2['Mesh_size(μm)'], df_2['Passing'], 'r')\n",
    "plt.margins(0)\n",
    "\n",
    "plt.legend(['Hold back', 'Passing'], loc=2)\n",
    "ax.set_xlabel(\"Particle sizes (μm)\")\n",
    "ax.set_ylabel(\"Cumulative sum of mass fractions\")\n",
    "ax.set_title(\"Cumulative distribution\")\n",
    "\n",
    "ax.set_xscale('log')\n",
    "\n",
    "\n",
    "plt.figtext(0.5,-0.05,\n",
    " s = \"Fig 4: Plot of the cumulative distribution with log scale when looking from small to large sizes(Hold back) and also from large to small (Passing)\",\n",
    "  wrap=True, horizontalalignment='center')"
   ]
  },
  {
   "cell_type": "markdown",
   "metadata": {},
   "source": [
    "## Plot the probability density function\n",
    "\n"
   ]
  },
  {
   "cell_type": "markdown",
   "metadata": {},
   "source": [
    "As mentioned earlier, it is possible to calculate from one curve to the other. Thus, when you diffrentiate the cumulative distributioon curve, you can obtain the probability density function and when you integrate the probability density function you can also obtain the cumulative distribution function. The probability density is calculated as follows:\n",
    "\\begin{equation*}\n",
    " q_{r} = \\frac{\\bar{X}}{\\Delta X}\n",
    "\\end{equation*}  \n",
    "Where $\\bar{X}$ is the mass fraction, and $\\Delta X$ is the width i.e the size interval. This is then plotted against the mean size of each interval. "
   ]
  },
  {
   "cell_type": "code",
   "execution_count": 10,
   "metadata": {},
   "outputs": [
    {
     "data": {
      "text/html": [
       "<div>\n",
       "<style scoped>\n",
       "    .dataframe tbody tr th:only-of-type {\n",
       "        vertical-align: middle;\n",
       "    }\n",
       "\n",
       "    .dataframe tbody tr th {\n",
       "        vertical-align: top;\n",
       "    }\n",
       "\n",
       "    .dataframe thead th {\n",
       "        text-align: right;\n",
       "    }\n",
       "</style>\n",
       "<table border=\"1\" class=\"dataframe\">\n",
       "  <thead>\n",
       "    <tr style=\"text-align: right;\">\n",
       "      <th></th>\n",
       "      <th>Mesh_size(μm)</th>\n",
       "      <th>Mass(g)</th>\n",
       "    </tr>\n",
       "  </thead>\n",
       "  <tbody>\n",
       "    <tr>\n",
       "      <th>0</th>\n",
       "      <td>0</td>\n",
       "      <td>1.10</td>\n",
       "    </tr>\n",
       "    <tr>\n",
       "      <th>1</th>\n",
       "      <td>45</td>\n",
       "      <td>1.90</td>\n",
       "    </tr>\n",
       "    <tr>\n",
       "      <th>2</th>\n",
       "      <td>63</td>\n",
       "      <td>5.25</td>\n",
       "    </tr>\n",
       "    <tr>\n",
       "      <th>3</th>\n",
       "      <td>90</td>\n",
       "      <td>7.50</td>\n",
       "    </tr>\n",
       "    <tr>\n",
       "      <th>4</th>\n",
       "      <td>125</td>\n",
       "      <td>21.80</td>\n",
       "    </tr>\n",
       "    <tr>\n",
       "      <th>5</th>\n",
       "      <td>180</td>\n",
       "      <td>37.50</td>\n",
       "    </tr>\n",
       "    <tr>\n",
       "      <th>6</th>\n",
       "      <td>250</td>\n",
       "      <td>37.50</td>\n",
       "    </tr>\n",
       "    <tr>\n",
       "      <th>7</th>\n",
       "      <td>355</td>\n",
       "      <td>97.00</td>\n",
       "    </tr>\n",
       "    <tr>\n",
       "      <th>8</th>\n",
       "      <td>500</td>\n",
       "      <td>90.00</td>\n",
       "    </tr>\n",
       "    <tr>\n",
       "      <th>9</th>\n",
       "      <td>710</td>\n",
       "      <td>112.50</td>\n",
       "    </tr>\n",
       "    <tr>\n",
       "      <th>10</th>\n",
       "      <td>1000</td>\n",
       "      <td>285.00</td>\n",
       "    </tr>\n",
       "    <tr>\n",
       "      <th>11</th>\n",
       "      <td>1400</td>\n",
       "      <td>52.50</td>\n",
       "    </tr>\n",
       "    <tr>\n",
       "      <th>12</th>\n",
       "      <td>1800</td>\n",
       "      <td>NaN</td>\n",
       "    </tr>\n",
       "  </tbody>\n",
       "</table>\n",
       "</div>"
      ],
      "text/plain": [
       "    Mesh_size(μm)  Mass(g)\n",
       "0               0     1.10\n",
       "1              45     1.90\n",
       "2              63     5.25\n",
       "3              90     7.50\n",
       "4             125    21.80\n",
       "5             180    37.50\n",
       "6             250    37.50\n",
       "7             355    97.00\n",
       "8             500    90.00\n",
       "9             710   112.50\n",
       "10           1000   285.00\n",
       "11           1400    52.50\n",
       "12           1800      NaN"
      ]
     },
     "execution_count": 10,
     "metadata": {},
     "output_type": "execute_result"
    }
   ],
   "source": [
    "#Load the dataset once again\n",
    "df_3 = pd.read_excel(r'C:\\Users\\seths\\Downloads\\Particle_Tech\\Homework\\Project_3\\size_data.xlsx')\n",
    "df_3\n"
   ]
  },
  {
   "cell_type": "code",
   "execution_count": 11,
   "metadata": {},
   "outputs": [
    {
     "data": {
      "text/html": [
       "<div>\n",
       "<style scoped>\n",
       "    .dataframe tbody tr th:only-of-type {\n",
       "        vertical-align: middle;\n",
       "    }\n",
       "\n",
       "    .dataframe tbody tr th {\n",
       "        vertical-align: top;\n",
       "    }\n",
       "\n",
       "    .dataframe thead th {\n",
       "        text-align: right;\n",
       "    }\n",
       "</style>\n",
       "<table border=\"1\" class=\"dataframe\">\n",
       "  <thead>\n",
       "    <tr style=\"text-align: right;\">\n",
       "      <th></th>\n",
       "      <th>Mesh_size(μm)</th>\n",
       "      <th>Mass(g)</th>\n",
       "      <th>Mass_frac</th>\n",
       "      <th>Size class</th>\n",
       "      <th>Dmean</th>\n",
       "      <th>prob_density</th>\n",
       "    </tr>\n",
       "  </thead>\n",
       "  <tbody>\n",
       "    <tr>\n",
       "      <th>0</th>\n",
       "      <td>0</td>\n",
       "      <td>1.10</td>\n",
       "      <td>0.001</td>\n",
       "      <td>45.0</td>\n",
       "      <td>22.5</td>\n",
       "      <td>0.000022</td>\n",
       "    </tr>\n",
       "    <tr>\n",
       "      <th>1</th>\n",
       "      <td>45</td>\n",
       "      <td>1.90</td>\n",
       "      <td>0.003</td>\n",
       "      <td>18.0</td>\n",
       "      <td>54.0</td>\n",
       "      <td>0.000167</td>\n",
       "    </tr>\n",
       "    <tr>\n",
       "      <th>2</th>\n",
       "      <td>63</td>\n",
       "      <td>5.25</td>\n",
       "      <td>0.007</td>\n",
       "      <td>27.0</td>\n",
       "      <td>76.5</td>\n",
       "      <td>0.000259</td>\n",
       "    </tr>\n",
       "    <tr>\n",
       "      <th>3</th>\n",
       "      <td>90</td>\n",
       "      <td>7.50</td>\n",
       "      <td>0.010</td>\n",
       "      <td>35.0</td>\n",
       "      <td>107.5</td>\n",
       "      <td>0.000286</td>\n",
       "    </tr>\n",
       "    <tr>\n",
       "      <th>4</th>\n",
       "      <td>125</td>\n",
       "      <td>21.80</td>\n",
       "      <td>0.029</td>\n",
       "      <td>55.0</td>\n",
       "      <td>152.5</td>\n",
       "      <td>0.000527</td>\n",
       "    </tr>\n",
       "    <tr>\n",
       "      <th>5</th>\n",
       "      <td>180</td>\n",
       "      <td>37.50</td>\n",
       "      <td>0.050</td>\n",
       "      <td>70.0</td>\n",
       "      <td>215.0</td>\n",
       "      <td>0.000714</td>\n",
       "    </tr>\n",
       "    <tr>\n",
       "      <th>6</th>\n",
       "      <td>250</td>\n",
       "      <td>37.50</td>\n",
       "      <td>0.050</td>\n",
       "      <td>105.0</td>\n",
       "      <td>302.5</td>\n",
       "      <td>0.000476</td>\n",
       "    </tr>\n",
       "    <tr>\n",
       "      <th>7</th>\n",
       "      <td>355</td>\n",
       "      <td>97.00</td>\n",
       "      <td>0.129</td>\n",
       "      <td>145.0</td>\n",
       "      <td>427.5</td>\n",
       "      <td>0.000890</td>\n",
       "    </tr>\n",
       "    <tr>\n",
       "      <th>8</th>\n",
       "      <td>500</td>\n",
       "      <td>90.00</td>\n",
       "      <td>0.120</td>\n",
       "      <td>210.0</td>\n",
       "      <td>605.0</td>\n",
       "      <td>0.000571</td>\n",
       "    </tr>\n",
       "    <tr>\n",
       "      <th>9</th>\n",
       "      <td>710</td>\n",
       "      <td>112.50</td>\n",
       "      <td>0.150</td>\n",
       "      <td>290.0</td>\n",
       "      <td>855.0</td>\n",
       "      <td>0.000517</td>\n",
       "    </tr>\n",
       "    <tr>\n",
       "      <th>10</th>\n",
       "      <td>1000</td>\n",
       "      <td>285.00</td>\n",
       "      <td>0.380</td>\n",
       "      <td>400.0</td>\n",
       "      <td>1200.0</td>\n",
       "      <td>0.000950</td>\n",
       "    </tr>\n",
       "    <tr>\n",
       "      <th>11</th>\n",
       "      <td>1400</td>\n",
       "      <td>52.50</td>\n",
       "      <td>0.070</td>\n",
       "      <td>400.0</td>\n",
       "      <td>1600.0</td>\n",
       "      <td>0.000175</td>\n",
       "    </tr>\n",
       "    <tr>\n",
       "      <th>12</th>\n",
       "      <td>1800</td>\n",
       "      <td>NaN</td>\n",
       "      <td>NaN</td>\n",
       "      <td>NaN</td>\n",
       "      <td>NaN</td>\n",
       "      <td>NaN</td>\n",
       "    </tr>\n",
       "  </tbody>\n",
       "</table>\n",
       "</div>"
      ],
      "text/plain": [
       "    Mesh_size(μm)  Mass(g)  Mass_frac  Size class   Dmean  prob_density\n",
       "0               0     1.10      0.001        45.0    22.5      0.000022\n",
       "1              45     1.90      0.003        18.0    54.0      0.000167\n",
       "2              63     5.25      0.007        27.0    76.5      0.000259\n",
       "3              90     7.50      0.010        35.0   107.5      0.000286\n",
       "4             125    21.80      0.029        55.0   152.5      0.000527\n",
       "5             180    37.50      0.050        70.0   215.0      0.000714\n",
       "6             250    37.50      0.050       105.0   302.5      0.000476\n",
       "7             355    97.00      0.129       145.0   427.5      0.000890\n",
       "8             500    90.00      0.120       210.0   605.0      0.000571\n",
       "9             710   112.50      0.150       290.0   855.0      0.000517\n",
       "10           1000   285.00      0.380       400.0  1200.0      0.000950\n",
       "11           1400    52.50      0.070       400.0  1600.0      0.000175\n",
       "12           1800      NaN        NaN         NaN     NaN           NaN"
      ]
     },
     "execution_count": 11,
     "metadata": {},
     "output_type": "execute_result"
    }
   ],
   "source": [
    "#Compute the mass fractions\n",
    "df_3['Mass_frac'] = df['Mass(g)'].apply(lambda x: (x / df_3['Mass(g)'].sum()).round(3) )\n",
    "\n",
    "#Compute the size intervals\n",
    "df_3['Size class'] = df_3['Mesh_size(μm)'].diff().shift(-1)\n",
    "\n",
    "#Compute the mean of each interval\n",
    "df_3['Dmean'] = df_3['Mesh_size(μm)'].rolling(2).mean().shift(-1)\n",
    "\n",
    "#Compute the probability density function \n",
    "df_3['prob_density'] = df_3['Mass_frac'] / df_3['Size class']\n",
    "\n",
    "df_3"
   ]
  },
  {
   "cell_type": "code",
   "execution_count": 12,
   "metadata": {},
   "outputs": [
    {
     "data": {
      "text/plain": [
       "Text(0.5, -0.05, 'Fig 5: The probability density plotted as a function of the mean of each size interval Dmean')"
      ]
     },
     "execution_count": 12,
     "metadata": {},
     "output_type": "execute_result"
    },
    {
     "data": {
      "image/png": "[encoded data removed]",
      "text/plain": [
       "<Figure size 432x288 with 1 Axes>"
      ]
     },
     "metadata": {
      "needs_background": "light"
     },
     "output_type": "display_data"
    }
   ],
   "source": [
    "#Generate the plot with log scale \n",
    "fig, ax = plt.subplots()\n",
    "\n",
    "ax.plot(df_3['Dmean'], df_3['prob_density'])\n",
    "\n",
    "ax.set_xlabel(\"Dmean\")\n",
    "ax.set_ylabel(\"Probability density\")\n",
    "ax.set_title(\"Probability density curve\")\n",
    "\n",
    "plt.figtext(0.5,-0.05, s = \"Fig 5: The probability density plotted as a function of the mean of each size interval Dmean\", wrap=True, horizontalalignment='center')"
   ]
  },
  {
   "cell_type": "markdown",
   "metadata": {},
   "source": [
    "As mentioned earlier, diffreantiating the cumulative distribution function yields the probability density function. \n",
    "\\begin{equation*}\n",
    "q(X) = \\lim_{\\Delta X\\to 0}\\frac{\\mathrm dQ(X)}{\\mathrm d \\Delta X} = \\frac{Quantity \\;per \\;interval}{Width \\;of \\;interval}\n",
    "\\end{equation*}\n",
    "\n",
    "q(X) = Probability density function  \n",
    "Q(X) = Cumulative density function"
   ]
  },
  {
   "cell_type": "markdown",
   "metadata": {},
   "source": [
    "## Sources"
   ]
  },
  {
   "cell_type": "markdown",
   "metadata": {},
   "source": [
    "1. https://en.wikipedia.org/wiki/Particle_size_analysis\n",
    "2. RHODES, M. J., 2008. Introduction to particle technology. 2nd ed. Chichester, England, Hoboken, NJ: Wiley. ISBN 1118681541 \n",
    "3. Wikipedia contributors. (2021, December 1). Particle. In Wikipedia, The Free Encyclopedia. Retrieved 07:25, February 9, 2022, from https://en.wikipedia.org/w/index.php?title=Particle&oldid=1058091868\n",
    "4. https://www.cif.iastate.edu/sites/default/files/uploads/Other_Inst/Particle%20Size/Particle%20Characterization%20Guide.pdf\n",
    "5. Allen, T. (2003). Powder sampling and particle size determination. Elsevier.\n",
    "6. https://www.particles.org.uk/expert/index.htm"
   ]
  },
  {
   "cell_type": "code",
   "execution_count": null,
   "metadata": {},
   "outputs": [],
   "source": []
  }
 ],
 "metadata": {
  "interpreter": {
   "hash": "7f2315f694e152c29e344141d749526cdfb5be5cc5e5949ea65827205c8677e7"
  },
  "kernelspec": {
   "display_name": "Python 3",
   "language": "python",
   "name": "python3"
  },
  "language_info": {
   "codemirror_mode": {
    "name": "ipython",
    "version": 3
   },
   "file_extension": ".py",
   "mimetype": "text/x-python",
   "name": "python",
   "nbconvert_exporter": "python",
   "pygments_lexer": "ipython3",
   "version": "3.8.8"
  },
  "toc-autonumbering": true,
  "toc-showcode": false,
  "toc-showmarkdowntxt": false,
  "toc-showtags": true
 },
 "nbformat": 4,
 "nbformat_minor": 4
}
